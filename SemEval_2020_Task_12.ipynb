{
  "nbformat": 4,
  "nbformat_minor": 0,
  "metadata": {
    "colab": {
      "name": "SemEval-2020 Task 12.ipynb",
      "provenance": [],
      "collapsed_sections": [],
      "include_colab_link": true
    },
    "kernelspec": {
      "name": "python3",
      "display_name": "Python 3"
    }
  },
  "cells": [
    {
      "cell_type": "markdown",
      "metadata": {
        "id": "view-in-github",
        "colab_type": "text"
      },
      "source": [
        "<a href=\"https://colab.research.google.com/github/piotrjaniszewski1/SemEval-2020-Task12/blob/master/SemEval_2020_Task_12.ipynb\" target=\"_parent\"><img src=\"https://colab.research.google.com/assets/colab-badge.svg\" alt=\"Open In Colab\"/></a>"
      ]
    },
    {
      "cell_type": "markdown",
      "metadata": {
        "id": "HkSswYeCqZUP",
        "colab_type": "text"
      },
      "source": [
        "# **Package installation**"
      ]
    },
    {
      "cell_type": "code",
      "metadata": {
        "id": "ITbytJ9fJ00a",
        "colab_type": "code",
        "outputId": "f64d95d6-47b9-4fe3-9f4d-70bc4df2caad",
        "colab": {
          "base_uri": "https://localhost:8080/",
          "height": 374
        }
      },
      "source": [
        "# Install necessary packages\n",
        "\n",
        "!pip install unidecode\n",
        "!pip install contractions\n",
        "!pip install wordsegment\n",
        "!pip install -U symspellpy\n",
        "!pip install emoji --upgrade\n",
        "!pip install -U imbalanced-learn"
      ],
      "execution_count": 91,
      "outputs": [
        {
          "output_type": "stream",
          "text": [
            "Requirement already satisfied: unidecode in /usr/local/lib/python3.6/dist-packages (1.1.1)\n",
            "Requirement already satisfied: contractions in /usr/local/lib/python3.6/dist-packages (0.0.23)\n",
            "Requirement already satisfied: textsearch in /usr/local/lib/python3.6/dist-packages (from contractions) (0.0.17)\n",
            "Requirement already satisfied: Unidecode in /usr/local/lib/python3.6/dist-packages (from textsearch->contractions) (1.1.1)\n",
            "Requirement already satisfied: pyahocorasick in /usr/local/lib/python3.6/dist-packages (from textsearch->contractions) (1.4.0)\n",
            "Requirement already satisfied: wordsegment in /usr/local/lib/python3.6/dist-packages (1.3.1)\n",
            "Requirement already up-to-date: symspellpy in /usr/local/lib/python3.6/dist-packages (6.5.2)\n",
            "Requirement already satisfied, skipping upgrade: numpy>=1.13.1 in /usr/local/lib/python3.6/dist-packages (from symspellpy) (1.17.4)\n",
            "Requirement already up-to-date: emoji in /usr/local/lib/python3.6/dist-packages (0.5.4)\n",
            "Collecting imbalanced-learn\n",
            "\u001b[?25l  Downloading https://files.pythonhosted.org/packages/e6/62/08c14224a7e242df2cef7b312d2ef821c3931ec9b015ff93bb52ec8a10a3/imbalanced_learn-0.5.0-py3-none-any.whl (173kB)\n",
            "\u001b[K     |████████████████████████████████| 174kB 2.9MB/s \n",
            "\u001b[?25hRequirement already satisfied, skipping upgrade: numpy>=1.11 in /usr/local/lib/python3.6/dist-packages (from imbalanced-learn) (1.17.4)\n",
            "Requirement already satisfied, skipping upgrade: joblib>=0.11 in /usr/local/lib/python3.6/dist-packages (from imbalanced-learn) (0.14.0)\n",
            "Requirement already satisfied, skipping upgrade: scipy>=0.17 in /usr/local/lib/python3.6/dist-packages (from imbalanced-learn) (1.3.2)\n",
            "Requirement already satisfied, skipping upgrade: scikit-learn>=0.21 in /usr/local/lib/python3.6/dist-packages (from imbalanced-learn) (0.21.3)\n",
            "Installing collected packages: imbalanced-learn\n",
            "  Found existing installation: imbalanced-learn 0.4.3\n",
            "    Uninstalling imbalanced-learn-0.4.3:\n",
            "      Successfully uninstalled imbalanced-learn-0.4.3\n",
            "Successfully installed imbalanced-learn-0.5.0\n"
          ],
          "name": "stdout"
        }
      ]
    },
    {
      "cell_type": "markdown",
      "metadata": {
        "id": "9zXay3ngqjfk",
        "colab_type": "text"
      },
      "source": [
        "# **Imports**"
      ]
    },
    {
      "cell_type": "code",
      "metadata": {
        "id": "LP7i81J8twMn",
        "colab_type": "code",
        "outputId": "32309ad0-b21b-4f7d-9e45-23eb459e3e89",
        "colab": {
          "base_uri": "https://localhost:8080/",
          "height": 34
        }
      },
      "source": [
        "# All imports\n",
        "\n",
        "import numpy as np\n",
        "import pandas as pd\n",
        "import matplotlib.pyplot as plt\n",
        "import seaborn as sns\n",
        "from sklearn.model_selection import train_test_split\n",
        "import spacy\n",
        "from bs4 import BeautifulSoup\n",
        "import unidecode\n",
        "import contractions\n",
        "import gensim.downloader as api\n",
        "import re\n",
        "import wordsegment\n",
        "import pkg_resources\n",
        "from symspellpy.symspellpy import SymSpell, Verbosity\n",
        "import emoji\n",
        "from imblearn.over_sampling import SMOTE\n",
        "\n",
        "wordsegment.load()\n",
        "spell = SpellChecker()\n",
        "\n",
        "# Load SymSpell -> package for correcting misspellings\n",
        "sym_spell = SymSpell(2, 7)\n",
        "\n",
        "dictionary_path = pkg_resources.resource_filename(\n",
        "    \"symspellpy\", \"frequency_dictionary_en_82_765.txt\")\n",
        "bigram_path = pkg_resources.resource_filename(\n",
        "    \"symspellpy\", \"frequency_bigramdictionary_en_243_342.txt\")\n",
        "\n",
        "sym_spell.load_dictionary(dictionary_path, term_index=0, count_index=1)\n",
        "sym_spell.load_bigram_dictionary(bigram_path, term_index=0, count_index=2)"
      ],
      "execution_count": 68,
      "outputs": [
        {
          "output_type": "execute_result",
          "data": {
            "text/plain": [
              "True"
            ]
          },
          "metadata": {
            "tags": []
          },
          "execution_count": 68
        }
      ]
    },
    {
      "cell_type": "code",
      "metadata": {
        "id": "mER1mPUtiaPl",
        "colab_type": "code",
        "outputId": "316cdcd5-dabe-48fa-ddf1-4dfec643d805",
        "colab": {
          "base_uri": "https://localhost:8080/",
          "height": 153
        }
      },
      "source": [
        "#Import data\n",
        "training_examples_url = 'https://raw.githubusercontent.com/piotrjaniszewski1/SemEval-2020-Task12/master/data2019/olid-training-v1.0.tsv'\n",
        "training_dataset = pd.read_csv(training_examples_url, delimiter='\\t')\n",
        "print(training_dataset.head())"
      ],
      "execution_count": 69,
      "outputs": [
        {
          "output_type": "stream",
          "text": [
            "      id                                              tweet  ... subtask_b subtask_c\n",
            "0  86426  @USER She should ask a few native Americans wh...  ...       UNT       NaN\n",
            "1  90194  @USER @USER Go home you’re drunk!!! @USER #MAG...  ...       TIN       IND\n",
            "2  16820  Amazon is investigating Chinese employees who ...  ...       NaN       NaN\n",
            "3  62688  @USER Someone should'veTaken\" this piece of sh...  ...       UNT       NaN\n",
            "4  43605  @USER @USER Obama wanted liberals &amp; illega...  ...       NaN       NaN\n",
            "\n",
            "[5 rows x 5 columns]\n"
          ],
          "name": "stdout"
        }
      ]
    },
    {
      "cell_type": "markdown",
      "metadata": {
        "id": "73i5BO8TqoTE",
        "colab_type": "text"
      },
      "source": [
        "# **Training and validation sets**"
      ]
    },
    {
      "cell_type": "code",
      "metadata": {
        "id": "-xHoiMYYlJQk",
        "colab_type": "code",
        "colab": {}
      },
      "source": [
        "training_examples, validation_examples = train_test_split(training_dataset, test_size=0.1)\n",
        "\n",
        "# prepare training examples\n",
        "training_examples_A = training_examples['tweet'][training_examples['subtask_a'].notnull()]\n",
        "training_examples_B = training_examples['tweet'][training_examples['subtask_b'].notnull()]\n",
        "training_examples_C = training_examples['tweet'][training_examples['subtask_c'].notnull()]\n",
        "\n",
        "# prepare validation examples\n",
        "validation_examples_A = validation_examples['tweet'][validation_examples['subtask_a'].notnull()]\n",
        "validation_examples_B = validation_examples['tweet'][validation_examples['subtask_b'].notnull()]\n",
        "validation_examples_C = validation_examples['tweet'][validation_examples['subtask_c'].notnull()]\n",
        "\n",
        "# prepare training labels\n",
        "training_labels_A = (training_examples['subtask_a'][training_examples['subtask_a'].notnull()] == 'OFF').astype(int)\n",
        "training_labels_B = (training_examples['subtask_b'][training_examples['subtask_b'].notnull()] == 'TIN').astype(int)\n",
        "c_mapping = {'IND': 0, 'GRP': 1, 'OTH': 2}\n",
        "training_labels_C = training_examples['subtask_c'][training_examples['subtask_c'].notnull()].replace(c_mapping)\n",
        "\n",
        "# prepare validation labels\n",
        "validation_labels_A = (validation_examples['subtask_a'][validation_examples['subtask_a'].notnull()] == 'OFF').astype(int)\n",
        "validation_labels_B = (validation_examples['subtask_b'][validation_examples['subtask_b'].notnull()] == 'TIN').astype(int)\n",
        "validation_labels_C = (validation_examples['subtask_c'][validation_examples['subtask_c'].notnull()]).replace(c_mapping)\n",
        "\n",
        "\n",
        "training_x = list(training_examples_A)\n",
        "validation_x = list(validation_examples_A)\n",
        "training_y = list(training_labels_A)\n",
        "validation_y = list(validation_labels_A)"
      ],
      "execution_count": 0,
      "outputs": []
    },
    {
      "cell_type": "markdown",
      "metadata": {
        "id": "o2bNpHc9qMpw",
        "colab_type": "text"
      },
      "source": [
        "# **Preprocessing**"
      ]
    },
    {
      "cell_type": "code",
      "metadata": {
        "id": "MAHp6jlH12sD",
        "colab_type": "code",
        "outputId": "c967661e-1d55-4338-dd08-284b9b541e70",
        "colab": {
          "base_uri": "https://localhost:8080/",
          "height": 71
        }
      },
      "source": [
        "# normalization -> papers, complicated solutions\n",
        "\n",
        "nlp = spacy.load('en_core_web_sm')\n",
        "\n",
        "# exclude negation words from spacy stopwords list\n",
        "deselect_stop_words = ['no', 'not', 'noone', 'none', 'lacks', 'lack', 'nor', 'never', 'neighter', 'hardly', 'nobody', 'nothing', 'lacking', 'nowhere']\n",
        "for w in deselect_stop_words:\n",
        "    nlp.vocab[w].is_stop = False\n",
        "\n",
        "\n",
        "# remove html tags if exist\n",
        "def strip_html_tags(text):\n",
        "    soup = BeautifulSoup(text, 'html.parser')\n",
        "    stripped_text = soup.get_text(separator=' ')\n",
        "    return stripped_text\n",
        "\n",
        "\n",
        "# remove unnecessary whitespaces\n",
        "def remove_whitespace(text):\n",
        "    text = text.strip()\n",
        "    return ' '.join(text.split())\n",
        "\n",
        "\n",
        "# remove accented chars (e.g. caffè -> caffe)\n",
        "def remove_accented_chars(text):\n",
        "    text = unidecode.unidecode(text)\n",
        "    return text\n",
        "\n",
        "\n",
        "# remove hashes and split words (e.g. '#fortTrump' -> 'fort trump')\n",
        "def split_hashtags(text):\n",
        "    splitted = text.split()\n",
        "    new_word_sequence = []\n",
        "\n",
        "    for chunk in splitted:\n",
        "        if chunk[0] == '#':\n",
        "            chunk = chunk[1:]\n",
        "            new_word_sequence.extend(wordsegment.segment(chunk))\n",
        "        else:\n",
        "            new_word_sequence.append(chunk)\n",
        "        \n",
        "    return ' '.join(tuple(new_word_sequence))\n",
        "\n",
        "\n",
        "def substitute_emojis(text):\n",
        "    demojized_text = emoji.demojize(text)\n",
        "    return re.compile('[_:]+').sub(' ', demojized_text)\n",
        "\n",
        "\n",
        "# all preprocessing executions\n",
        "def preprocess_basic(text):\n",
        "    text = strip_html_tags(text)\n",
        "    text = contractions.fix(text)\n",
        "    text = split_hashtags(text)\n",
        "    text = substitute_emojis(text)\n",
        "    text = remove_whitespace(text)\n",
        "    text = remove_accented_chars(text)\n",
        "    text = text.lower()\n",
        "\n",
        "    doc = nlp(text)\n",
        "\n",
        "    clean_text = []\n",
        "    \n",
        "    for token in doc:\n",
        "        flag = True\n",
        "        edit = token.text\n",
        "\n",
        "        # remove punctuations\n",
        "        if token.pos_ == 'PUNCT' and flag == True and token.text != '@user': \n",
        "            flag = False\n",
        "       \n",
        "        # remove special characters\n",
        "        if token.pos_ == 'SYM' and flag == True: \n",
        "            flag = False\n",
        "        \n",
        "        # remove numbers\n",
        "        if (token.pos_ == 'NUM' or token.text.isnumeric()) and flag == True:\n",
        "            flag = False\n",
        "\n",
        "        # correct misspelings\n",
        "        if flag == True:\n",
        "            suggestions = sym_spell.lookup(edit, Verbosity.TOP, 2)\n",
        "            if len(suggestions) > 0:\n",
        "                edit = suggestions[0].term\n",
        "\n",
        "        # remove stop words\n",
        "        if token.is_stop and token.pos_ != 'NUM': \n",
        "            flag = False\n",
        "\n",
        "        # convert tokens to base form\n",
        "        elif token.lemma_ != '-PRON-' and flag == True:\n",
        "            edit = token.lemma_\n",
        "\n",
        "        # append tokens edited and not removed to list \n",
        "        if edit != '' and flag == True:\n",
        "            clean_text.append(edit)        \n",
        "    \n",
        "    return clean_text\n",
        "\n",
        "\n",
        "cleaned_x = [preprocess_basic(example) for example in training_x[0:30]]\n",
        "print(cleaned_x[0:30])\n",
        "print(training_x[0:30])"
      ],
      "execution_count": 84,
      "outputs": [
        {
          "output_type": "stream",
          "text": [
            "[['@user', '@user', '@user', '@user', 'amazing', 'organizer', 'clap', 'hand', 'medium', 'dark', 'skin', 'tone'], ['mind', 'open', 'conservative', 'republican', 'maga', 'shadow', 'ban', 'america', 'trump', 'patriot', '@user', '@user', '@user', '@user', '@user', '@user', '@user', 'walk', 'away', 'walk', 'away', 'democrat', 'fake', 'news', '@user', '@user', '@user', '@user', '@user', '@user', 'url'], ['@user', 'disgusting', 'proof', 'property', 'home', 'ownership', 'myth', 'not', 'pay', 'taxis', 'rent', 'throw', 'land', 'need', 'permission', 'build', 'land'], ['@user', 'enemy', 'great', 'point', 'compromise', 'source', 'method', 'source', 'method', 'conservative', 'concerned', 'drain', 'swamp'], ['@user', 'loudly', 'cry', 'face', 'loudly', 'cry', 'face', 'loudly', 'cry', 'face', 'loudly', 'cry', 'face', 'terrible', 'ok', 'button'], ['@user', '@user', '@user', '@user', '@user', '@user', '@user', '@user', '@user', '@user', '@user', '@user', 'thank', 'allow', 'aboard', 'proudly', 'follow', 'maga', 'kag', 'patriot', 'united', 'state'], ['@user', 'know', 'not', 'real', 'republican', 'commit', 'party', 'need', 'leave', 'disgrace', 'republican', 'conservative', 'member', 'work', 'solution', 'not', 'constantly', 'diminish', 'potus', 'quit'], ['@user', 'not', 'like'], ['@user', 'not', 'know', 'slam', 'manifort', 'suck', 'not', 'know', 'worry', 'junior', 'kushner', 'not', 'mad', 'hell', 'know', 'not', 'fire', 'mueller', 'busy', 'puke', 'bathroom', 'understand', 'asset', 'seizure', 'thing'], ['@user', 'select', 'liberal', 'cheat', 'voter', 'change', 'mind', 'election', 'ms', 'alleslev'], ['@user', 'school', 'food', 'ass', 'anyway', 'face', 'tear', 'joy', 'face', 'tear', 'joy'], ['@user', 'obviously', 'not', 'boycott', '@user'], ['@user', '@user', '@user', 'deal', 'samrat', 'family', 'think', 'save', 'case', 'know', 'samrat', 'attract', 'girl', 'teju', 'geetha', 'complaint', 'come', 'take', 'care', 'sad', 'wife', 'kaushal', 'army', 'biggbosstelugu2'], ['@user', '@user', '@user', '@user', '@user', '@user', 'congratulation'], ['@user', '@user', '@user', 'awesome', 'tweet', 'bring', 'good', 'people', 'appreciate', 'thank', 'yesterday', 'live', 'update', 'live', 'coverage', 'news', 'story'], ['@user', '@user', '@user', 'today', 'happy', 'succeed', 'work', 'award', 'reward', 'effortless', 'try', 'wish', 'award', 'life', 'beginning', 'journey', 'lot', 'thing', 'achieve', 'congratulation', 'win', 'award', 'dear', '@user'], ['@user', '@user', 'go', 'eye'], ['@user', 'troll', 'antifa'], ['@user', 'go', 'op', 'asf', 'week', 'url'], ['@user', '@user', 'usa', 'ww2', 'soldier', 'antifa', 'anti', '-', 'fascist', 'kill'], ['@user', 'terrorist', 'antifa', 'farrakhan', 'hateful', 'racist', 'thug', 'blm', 'criminal', 'black', 'panther', 'group', 'no', 'place'], ['@user', 'course', 'not', 'obviously', 'complete', 'bs', 'want', 'delay', 'time', 'vote', 'come', 'w/', 'plant', 'accuser', 'suppose', 'victim', 'apparent', 'rape', 'liberal', 'come', 'look', 'like', 'lesbian', 'art', 'teacher', 'lol'], ['@user', '@user', 'total', 'mental', 'breakdown', '-', 'elect'], ['@user', '@user', '@user', 'right', 'convenient', 'time', 'possible', 'wrinkle', 'throw', 'conservative', 'dem', 'whine', 'cry', 'stomp', 'foot', 'throw', 'tantrum', 'rest', 'america', 'trust', 'definitely', 'not', 'lie', 'snake', 'deserve', 'nothing'], ['@user', '@user', '@user', '@user', '@user', '@user', '@user', '@user', '@user', '@user', '@user', '@user', '@user', '@user', '@user', '@user', '@user', '@user', '@user', '@user', '@user', '@user', '@user', '@user', '@user', '@user', '@user', '@user', '@user', '@user', '@user', '@user', '@user', '@user', '@user', '@user', '@user', '@user', '@user', '@user', '@user', '@user', '@user', '@user', '@user', '@user', '@user', '@user', '@user', '@user', 'right', 'conditioning', 'sort', 'result', 'denial', 'irrelevant', 'fact', 'welcome', 'cognitive', 'dissonance', 'disguise-', 'antifa', 'woman', 'facepalme', 'light', 'skin', 'tone'], ['@user', 'holy', 'shit', 'no', 'way'], ['@user', 'ok', 'hear', 'superman', 'thing', 'time', 'certainly', 'busy', 'excellent', 'opportunity', 'step', 'movie', 'cavill', 'step', 'url'], ['evil', 'url'], ['@user', 'child', 'retarded'], ['@user', 'not', 'face', 'tear', 'joy', 'face', 'tear', 'joy', 'face', 'tear', 'joy', 'face', 'tear', 'joy', 'face', 'tear', 'joy']]\n",
            "['@USER @USER @USER @USER You are an amazing organizer 👏🏾', 'Keep your mind open. #conservatives #republican #MAGA #Shadowbanning #AmericaFirst #Trump #Patriot @USER @USER @USER @USER @USER @USER @USER #WalkAway #WalkAwayFromDemocrats #FakeNews @USER @USER @USER @USER @USER @USER URL', \"@USER Disgusting. This is just more proof that property and home ownership is a MYTH...if you don't pay the taxes (RENT) you are thrown off YOUR LAND...you need PERMISSION to build on YOUR LAND.\", '@USER The enemy within seems greater at this point than compromising sources and methods. It’s the sources and methods we Conservatives are concerned about! #draintheswamp', '@USER 😭😭😭😭 he is terrible 🆗', '@USER @USER @USER @USER @USER @USER @USER @USER @USER @USER @USER @USER Thank you for allowing me aboard!  Proudly following all #MAGA #KAG Patriots 🇺🇸', '@USER I knew you weren’t a Real Republican committed to your party!!!! You need to leave. Get out now!! You are a disgrace to every republican/conservative member who work towards solutions and does not constantly diminish The POTUS!!! Quit already.', '@USER he is doing it to everyone he don’t like', '@USER He doesn’t know if he should slam Manifort or suck up to him. He doesn’t know if he should worry about Junior and Kushner or not. He is mad as hell but knows that he can’t just fire Mueller so he is busy puking in the bathroom now that he understands that asset seizure is a thing', '@USER You’ve been selected by Liberals! Are you cheating on your voters. You should have changed your mind before the election Ms. Alleslev', '@USER School food ass anyways😂😂', '@USER He obviously isn’t boycotting @USER', '@USER @USER @USER has a deal with samrat family i think to save him from the case. We know how samrat is attract for girls teju and geetha. Now when complaint came he is taking care. Sad for her wife #KaushalArmy #BiggBossTelugu2', '@USER @USER @USER @USER @USER @USER Congratulations!', \"@USER @USER @USER Awesome tweet. You bring out the best in people and you are appreciated. Thanks for yesterday's many live updates  and live coverage and that was just one news story!\", '@USER @USER @USER Today I am happy for you as you succeed in your work. The award you are rewarded is for you effortless trying. I wish many more awards in your life. It is the beginning of journey and lots of things are yet to achieve. Congratulation for winning this award dear @USER', '@USER @USER Or perhaps it’s because he is gone 👀', '@USER 4chan trolling Antifa again?', '@USER He is gonna be OP asf for the first few weeks URL', '@USER @USER Our  USA WW2 soldiers were all Antifa anti-fascists too. They killed them.', '@USER What?  All 12 of them?  What about the terrorists Antifa?  Farrakhan’s hateful and racist thugs?  BLM criminals?  Black Panthers?  Those groups have NO place either!', '@USER Of course they shouldnt cause its obviously complete bs. They just want it delayed and when its time for the vote again theyll come up w/ another plant accuser. And why does every supposed victim of apparent “rape” liberals come up with always look like a lesbian art teacher lol', '@USER @USER She’ll have a total mental breakdown when he is re-elected!!!!', '@USER @USER @USER Right now is the most convenient time for a possible\" wrinkle to thrown at Conservatives. Dems have whined and cried and stomp their feet and thrown tantrums until the rest of America that may have trusted them definitely dont now. Theyre lying snakes and they deserve nothing.\"', \"@USER @USER @USER @USER @USER @USER @USER @USER @USER @USER @USER @USER @USER @USER @USER @USER @USER @USER @USER @USER @USER @USER @USER @USER @USER @USER @USER @USER @USER @USER @USER @USER @USER @USER @USER @USER @USER @USER @USER @USER @USER @USER @USER @USER @USER @USER @USER @USER @USER @USER Right ... It's a conditioning of sorts resulting in denial... Irrelevant of the facts... THUS Welcomes Cognitive Dissonance in Disguise- ANTIFA 🤦🏻\\u200d♀️\", '@USER HOLY SHIT NO WAY', '@USER Ok - you hear about the superman\" thing all the time. And you are certainly busy, but, this could be an EXCELLENT opportunity to step in, in the movies for him as Cavill is steping down!:  URL', ':( She is very evil. URL', '@USER He is a child ~ a retarded one.', '@USER Don’t 😂😂😂😂😂']\n"
          ],
          "name": "stdout"
        }
      ]
    },
    {
      "cell_type": "code",
      "metadata": {
        "id": "n4Gjm9OhOzug",
        "colab_type": "code",
        "colab": {}
      },
      "source": [
        "# Remove redundant @user tokens\n",
        "def remove_redundant_users(example):\n",
        "  user_count = 0\n",
        "  new_example = example[:]\n",
        "  for i, token in reversed(list(enumerate(example))):\n",
        "    if token == '@user':\n",
        "      user_count += 1\n",
        "      if user_count > 3:\n",
        "        new_example.pop(i)\n",
        "\n",
        "    else:\n",
        "      user_count = 0\n",
        "\n",
        "  return new_example\n",
        "\n",
        "reduced_users_x = [remove_redundant_users(example) for example in cleaned_x]"
      ],
      "execution_count": 0,
      "outputs": []
    },
    {
      "cell_type": "markdown",
      "metadata": {
        "id": "Sof2hmndqxQ-",
        "colab_type": "text"
      },
      "source": [
        "# **Class imbalance**"
      ]
    },
    {
      "cell_type": "code",
      "metadata": {
        "id": "hMEzRiyEsxDV",
        "colab_type": "code",
        "outputId": "ca974b64-57fd-4bde-9a19-75f3c37338e7",
        "colab": {
          "base_uri": "https://localhost:8080/",
          "height": 353
        }
      },
      "source": [
        "#Depict class imbalance for the subtask A\n",
        "sns.set(font_scale=1.0)\n",
        "countplt=sns.countplot(x='subtask_a', data=training_dataset, palette ='hls')\n",
        "plt.show()\n",
        "\n",
        "print(training_dataset.groupby('subtask_a').count()['id'])"
      ],
      "execution_count": 90,
      "outputs": [
        {
          "output_type": "display_data",
          "data": {
            "image/png": "[encoded data removed]",
            "text/plain": [
              "<Figure size 432x288 with 1 Axes>"
            ]
          },
          "metadata": {
            "tags": []
          }
        },
        {
          "output_type": "stream",
          "text": [
            "subtask_a\n",
            "NOT    8840\n",
            "OFF    4400\n",
            "Name: id, dtype: int64\n"
          ],
          "name": "stdout"
        }
      ]
    },
    {
      "cell_type": "code",
      "metadata": {
        "id": "kyyLmYKDvhLG",
        "colab_type": "code",
        "colab": {}
      },
      "source": [
        "# [1] SMOTE + ADA-SYN + Tomek links -> use preferably exclusive with [2]\n",
        "\n"
      ],
      "execution_count": 0,
      "outputs": []
    },
    {
      "cell_type": "code",
      "metadata": {
        "id": "352nAj4Spt06",
        "colab_type": "code",
        "colab": {}
      },
      "source": [
        "# [2] Levelling instances importance -> use peferably exclusive with [1]\n",
        "\n"
      ],
      "execution_count": 0,
      "outputs": []
    }
  ]
}