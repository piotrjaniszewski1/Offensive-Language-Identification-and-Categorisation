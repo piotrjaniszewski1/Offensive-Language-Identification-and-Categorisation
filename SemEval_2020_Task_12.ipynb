{
  "nbformat": 4,
  "nbformat_minor": 0,
  "metadata": {
    "colab": {
      "name": "SemEval-2020 Task 12.ipynb",
      "provenance": [],
      "collapsed_sections": [],
      "include_colab_link": true
    },
    "kernelspec": {
      "name": "python3",
      "display_name": "Python 3"
    }
  },
  "cells": [
    {
      "cell_type": "markdown",
      "metadata": {
        "id": "view-in-github",
        "colab_type": "text"
      },
      "source": [
        "<a href=\"https://colab.research.google.com/github/piotrjaniszewski1/SemEval-2020-Task12/blob/master/SemEval_2020_Task_12.ipynb\" target=\"_parent\"><img src=\"https://colab.research.google.com/assets/colab-badge.svg\" alt=\"Open In Colab\"/></a>"
      ]
    },
    {
      "cell_type": "code",
      "metadata": {
        "id": "ITbytJ9fJ00a",
        "colab_type": "code",
        "colab": {
          "base_uri": "https://localhost:8080/",
          "height": 238
        },
        "outputId": "b737db33-43e8-43ed-ee5a-a2a86225914c"
      },
      "source": [
        "!pip install unidecode\n",
        "!pip install contractions\n",
        "!pip install wordsegment\n",
        "!pip install -U symspellpy"
      ],
      "execution_count": 32,
      "outputs": [
        {
          "output_type": "stream",
          "text": [
            "Requirement already satisfied: unidecode in /usr/local/lib/python3.6/dist-packages (1.1.1)\n",
            "Requirement already satisfied: contractions in /usr/local/lib/python3.6/dist-packages (0.0.23)\n",
            "Requirement already satisfied: textsearch in /usr/local/lib/python3.6/dist-packages (from contractions) (0.0.17)\n",
            "Requirement already satisfied: Unidecode in /usr/local/lib/python3.6/dist-packages (from textsearch->contractions) (1.1.1)\n",
            "Requirement already satisfied: pyahocorasick in /usr/local/lib/python3.6/dist-packages (from textsearch->contractions) (1.4.0)\n",
            "Requirement already satisfied: wordsegment in /usr/local/lib/python3.6/dist-packages (1.3.1)\n",
            "Requirement already satisfied: pyspellchecker in /usr/local/lib/python3.6/dist-packages (0.5.2)\n",
            "Collecting symspellpy\n",
            "\u001b[?25l  Downloading https://files.pythonhosted.org/packages/6d/0b/2daa14bf1ed649fff0d072b2e51ae98d8b45cae6cf8fdda41be01ce6c289/symspellpy-6.5.2-py3-none-any.whl (2.6MB)\n",
            "\u001b[K     |████████████████████████████████| 2.6MB 2.8MB/s \n",
            "\u001b[?25hRequirement already satisfied, skipping upgrade: numpy>=1.13.1 in /usr/local/lib/python3.6/dist-packages (from symspellpy) (1.17.4)\n",
            "Installing collected packages: symspellpy\n",
            "Successfully installed symspellpy-6.5.2\n"
          ],
          "name": "stdout"
        }
      ]
    },
    {
      "cell_type": "code",
      "metadata": {
        "id": "LP7i81J8twMn",
        "colab_type": "code",
        "colab": {
          "base_uri": "https://localhost:8080/",
          "height": 34
        },
        "outputId": "70af2ac9-55f4-4725-abdc-6170eb896af4"
      },
      "source": [
        "import numpy as np\n",
        "import pandas as pd\n",
        "import matplotlib.pyplot as plt\n",
        "import seaborn as sns\n",
        "from sklearn.model_selection import train_test_split\n",
        "import spacy\n",
        "from bs4 import BeautifulSoup\n",
        "import unidecode\n",
        "import contractions\n",
        "import gensim.downloader as api\n",
        "import re\n",
        "import wordsegment\n",
        "import pkg_resources\n",
        "from symspellpy.symspellpy import SymSpell, Verbosity\n",
        "\n",
        "wordsegment.load()\n",
        "spell = SpellChecker()\n",
        "\n",
        "# Load SymSpell -> package for correcting misspellings\n",
        "sym_spell = SymSpell(2, 7)\n",
        "\n",
        "dictionary_path = pkg_resources.resource_filename(\n",
        "    \"symspellpy\", \"frequency_dictionary_en_82_765.txt\")\n",
        "bigram_path = pkg_resources.resource_filename(\n",
        "    \"symspellpy\", \"frequency_bigramdictionary_en_243_342.txt\")\n",
        "\n",
        "sym_spell.load_dictionary(dictionary_path, term_index=0, count_index=1)\n",
        "sym_spell.load_bigram_dictionary(bigram_path, term_index=0, count_index=2)"
      ],
      "execution_count": 49,
      "outputs": [
        {
          "output_type": "execute_result",
          "data": {
            "text/plain": [
              "True"
            ]
          },
          "metadata": {
            "tags": []
          },
          "execution_count": 49
        }
      ]
    },
    {
      "cell_type": "code",
      "metadata": {
        "id": "mER1mPUtiaPl",
        "colab_type": "code",
        "outputId": "9ea44678-4b76-4f6b-e3b7-0b3a8f5d245b",
        "colab": {
          "base_uri": "https://localhost:8080/",
          "height": 153
        }
      },
      "source": [
        "#Import data\n",
        "training_examples_url = 'https://raw.githubusercontent.com/piotrjaniszewski1/SemEval-2020-Task12/master/data2019/olid-training-v1.0.tsv'\n",
        "training_dataset = pd.read_csv(training_examples_url, delimiter='\\t')\n",
        "print(training_dataset.head())"
      ],
      "execution_count": 50,
      "outputs": [
        {
          "output_type": "stream",
          "text": [
            "      id                                              tweet  ... subtask_b subtask_c\n",
            "0  86426  @USER She should ask a few native Americans wh...  ...       UNT       NaN\n",
            "1  90194  @USER @USER Go home you’re drunk!!! @USER #MAG...  ...       TIN       IND\n",
            "2  16820  Amazon is investigating Chinese employees who ...  ...       NaN       NaN\n",
            "3  62688  @USER Someone should'veTaken\" this piece of sh...  ...       UNT       NaN\n",
            "4  43605  @USER @USER Obama wanted liberals &amp; illega...  ...       NaN       NaN\n",
            "\n",
            "[5 rows x 5 columns]\n"
          ],
          "name": "stdout"
        }
      ]
    },
    {
      "cell_type": "code",
      "metadata": {
        "id": "-xHoiMYYlJQk",
        "colab_type": "code",
        "colab": {}
      },
      "source": [
        "training_examples, validation_examples = train_test_split(training_dataset, test_size=0.1)\n",
        "\n",
        "# prepare training examples\n",
        "training_examples_A = training_examples['tweet'][training_examples['subtask_a'].notnull()]\n",
        "training_examples_B = training_examples['tweet'][training_examples['subtask_b'].notnull()]\n",
        "training_examples_C = training_examples['tweet'][training_examples['subtask_c'].notnull()]\n",
        "\n",
        "# prepare validation examples\n",
        "validation_examples_A = validation_examples['tweet'][validation_examples['subtask_a'].notnull()]\n",
        "validation_examples_B = validation_examples['tweet'][validation_examples['subtask_b'].notnull()]\n",
        "validation_examples_C = validation_examples['tweet'][validation_examples['subtask_c'].notnull()]\n",
        "\n",
        "# prepare training labels\n",
        "training_labels_A = (training_examples['subtask_a'][training_examples['subtask_a'].notnull()] == 'OFF').astype(int)\n",
        "training_labels_B = (training_examples['subtask_b'][training_examples['subtask_b'].notnull()] == 'TIN').astype(int)\n",
        "c_mapping = {'IND': 0, 'GRP': 1, 'OTH': 2}\n",
        "training_labels_C = training_examples['subtask_c'][training_examples['subtask_c'].notnull()].replace(c_mapping)\n",
        "\n",
        "# prepare validation labels\n",
        "validation_labels_A = (validation_examples['subtask_a'][validation_examples['subtask_a'].notnull()] == 'OFF').astype(int)\n",
        "validation_labels_B = (validation_examples['subtask_b'][validation_examples['subtask_b'].notnull()] == 'TIN').astype(int)\n",
        "validation_labels_C = (validation_examples['subtask_c'][validation_examples['subtask_c'].notnull()]).replace(c_mapping)\n",
        "\n",
        "\n",
        "training_x = list(training_examples_A)\n",
        "validation_x = list(validation_examples_A)\n",
        "training_y = list(training_labels_A)\n",
        "validation_y = list(validation_labels_A)"
      ],
      "execution_count": 0,
      "outputs": []
    },
    {
      "cell_type": "code",
      "metadata": {
        "id": "MAHp6jlH12sD",
        "colab_type": "code",
        "outputId": "792adb4b-56dd-4325-fd66-31b234de7a35",
        "colab": {
          "base_uri": "https://localhost:8080/",
          "height": 71
        }
      },
      "source": [
        "# Preprocessing\n",
        "# normalization -> papers, complicated solutions, removal of - in words like ex-wife, Emoji substitution\n",
        "\n",
        "nlp = spacy.load('en_core_web_sm')\n",
        "\n",
        "# exclude negation words from spacy stopwords list\n",
        "deselect_stop_words = ['no', 'not', 'noone', 'none', 'lacks', 'lack', 'nor', 'never', 'neighter', 'hardly', 'nobody', 'nothing', 'lacking', 'nowhere']\n",
        "for w in deselect_stop_words:\n",
        "    nlp.vocab[w].is_stop = False\n",
        "\n",
        "\n",
        "# remove html tags if exist\n",
        "def strip_html_tags(text):\n",
        "    soup = BeautifulSoup(text, 'html.parser')\n",
        "    stripped_text = soup.get_text(separator=' ')\n",
        "    return stripped_text\n",
        "\n",
        "\n",
        "# remove unnecessary whitespaces\n",
        "def remove_whitespace(text):\n",
        "    text = text.strip()\n",
        "    return ' '.join(text.split())\n",
        "\n",
        "\n",
        "# remove accented chars (e.g. caffè -> caffe)\n",
        "def remove_accented_chars(text):\n",
        "    text = unidecode.unidecode(text)\n",
        "    return text\n",
        "\n",
        "\n",
        "# remove hashes and split words (e.g. '#fortTrump' -> 'fort trump')\n",
        "def split_hashtags(text):\n",
        "    splitted = text.split()\n",
        "    new_word_sequence = []\n",
        "\n",
        "    for chunk in splitted:\n",
        "        if chunk[0] == '#':\n",
        "            chunk = chunk[1:]\n",
        "            new_word_sequence.extend(wordsegment.segment(chunk))\n",
        "        else:\n",
        "            new_word_sequence.append(chunk)\n",
        "        \n",
        "    return ' '.join(tuple(new_word_sequence))\n",
        "\n",
        "\n",
        "# all preprocessing executions\n",
        "def preprocess_basic(text):\n",
        "    text = strip_html_tags(text)\n",
        "    text = remove_whitespace(text)\n",
        "    text = contractions.fix(text)\n",
        "    text = split_hashtags(text)\n",
        "    text = remove_accented_chars(text)\n",
        "    text = text.lower()\n",
        "\n",
        "    doc = nlp(text)\n",
        "\n",
        "    clean_text = []\n",
        "    \n",
        "    for token in doc:\n",
        "        flag = True\n",
        "        edit = token.text\n",
        "\n",
        "        # remove punctuations\n",
        "        if token.pos_ == 'PUNCT' and flag == True and token.text != '@user': \n",
        "            flag = False\n",
        "       \n",
        "        # remove special characters\n",
        "        if token.pos_ == 'SYM' and flag == True: \n",
        "            flag = False\n",
        "        \n",
        "        # remove numbers\n",
        "        if (token.pos_ == 'NUM' or token.text.isnumeric()) and flag == True:\n",
        "            flag = False\n",
        "\n",
        "        # correct misspelings\n",
        "        if flag == True:\n",
        "            suggestions = sym_spell.lookup(edit, Verbosity.TOP, 2)\n",
        "            if len(suggestions) > 0:\n",
        "                edit = suggestions[0].term\n",
        "\n",
        "        # remove stop words\n",
        "        if token.is_stop and token.pos_ != 'NUM': \n",
        "            flag = False\n",
        "\n",
        "        # convert tokens to base form\n",
        "        elif token.lemma_ != '-PRON-' and flag == True:\n",
        "            edit = token.lemma_\n",
        "\n",
        "        # append tokens edited and not removed to list \n",
        "        if edit != '' and flag == True:\n",
        "            clean_text.append(edit)        \n",
        "    \n",
        "    return clean_text\n",
        "\n",
        "\n",
        "cleaned_x = [preprocess_basic(example) for example in training_x[0:10]]\n",
        "print(cleaned_x[0:10])\n",
        "print(training_x[0:10])"
      ],
      "execution_count": 55,
      "outputs": [
        {
          "output_type": "stream",
          "text": [
            "[['@user', '@user', 'liberal', 'pawn', 'democrat', 'attempt', 'derail', 'kavanaugh', 'confirmation', 'not', 'believe', 'word', 'liberal', 'friend', 'enemy', 'state', 'leave', 'america', 'well', 'people', 'like', 'liberal'], ['@user', '@user', '@user', '@user', 'totally', 'fair', 'time', 'happen', 'serena', 'important', 'grand', 'slam', 'match', 'slam', 'emotional', 'not', 'shoe', 'match', 'expect', 'win', 'clear', 'not', 'handle', 'nerve', 'anymore', 'match'], ['@user', 'course', 'liberal', 'reject', 'truth', 'accept', 'falsehood', 'not', 'believe', 'kanaugh', 'believe', 'ellison'], ['heather', 'mac', 'donald', 'college', 'teach', 'student', 'bias', 'not', 'exist', 'url', 't', 'cot', 'maga', 'red', 'nation', 'rise'], ['@user', '@user', '@user', '@user', '@user', '@user', '@user', '@user', '@user', '@user', '@user', '@user', '@user', '@user', '@user', '@user', '@user', '@user', '@user', '@user', '@user', '@user', '@user', '@user', '@user', '@user', 'never', 'talk', 'gun', 'control', 'form'], ['@user', 'no', 'deal', 'gun', 'control', 'knob', '2nd', 'amendment', 'right', 'no', 'deal', 'away'], ['@user', '@user', '@user', '@user', '@user', '@user', '@user', '@user', '@user', '@user', '@user', '@user', '@user', '@user', '@user', '@user', '@user', '@user', '@user', '@user', 'jaw', 'v', 'jaw', 'jaw', 'star', 'kurt', 'chiselchest', 'lorna', 'buxom', 'whud', 'win', 'better', 'not', 'laser', 'sword', 'jess', 'b', 'jealous'], ['@user', '@user', 'not', 'matter', 'say', 'correct', 'stupid', 'life', 'family', 'live', 'jeopardy', 'base', 'politico', 'dam', 'fool'], ['@user', 'way', 'look', 'charge', 'bullshit'], ['@user', '@user', '@user', '@user', '@user', 'liberal', 'old', 'playbook', 'old', 'yawn']]\n",
            "['@USER @USER You are just another liberal pawn used by the democrats in an attempt to derail Kavanaugh’s confirmation. I don’t believe a word of it. You and your liberal friends are an enemy of the state. Just leave America. We will be better off without people like you. 🚫Liberals', \"@USER @USER @USER @USER Totally fair. But the times it's happened to Serena in very important grand slam matches at the same slam. I get why shed be emotional. We're not in her shoes. Every match she is expected to win and it's clear she's not handling her nerves well anymore in these matches.\", \"@USER Why of course. Liberals reject truth and accept falsehoods. That's why they don't believe Kanaugh and believe Ellison.\", 'Heather Mac Donald: Colleges Teach Students to See Bias Where It Doesn’t Exist\"  URL #TCOT #MAGA #RedNationRising\"', '@USER @USER @USER @USER @USER @USER @USER @USER @USER @USER @USER @USER @USER @USER @USER @USER @USER @USER @USER @USER @USER @USER @USER @USER @USER @USER I never talked about gun control in any form.', '@USER There is no deal\" to be made on gun control, knob. The 2nd Amendment is a right that no one can deal away.\"', '@USER @USER @USER @USER @USER @USER @USER @USER @USER @USER @USER @USER @USER @USER @USER @USER @USER @USER @USER @USER Jaws V: When Jaws Jaws Back - Starring Kurt Chiselchest and Lorna Buxom  Whud I win?  It better not be one of them laser swords...Jess will b jealous.', '@USER @USER It doesnt matter who said it.  YOU ARE CORRECT .  If anyone that stupid to out your life and families lives in jeopardy based on politico. Dam fool.', '@USER That’s one way to look at it. The other is that the charge is bullshit for almost everyone.', '@USER @USER @USER @USER @USER The Liberals same old playbook. It is so old... yawn']\n"
          ],
          "name": "stdout"
        }
      ]
    },
    {
      "cell_type": "code",
      "metadata": {
        "id": "n4Gjm9OhOzug",
        "colab_type": "code",
        "colab": {}
      },
      "source": [
        "# Remove redundant @user tokens\n",
        "def remove_redundant_users(example):\n",
        "  user_count = 0\n",
        "  new_example = example[:]\n",
        "  for i, token in reversed(list(enumerate(example))):\n",
        "    if token == '@user':\n",
        "      user_count += 1\n",
        "      if user_count > 3:\n",
        "        new_example.pop(i)\n",
        "\n",
        "    else:\n",
        "      user_count = 0\n",
        "\n",
        "  return new_example\n",
        "\n",
        "reduced_users_x = [remove_redundant_users(example) for example in cleaned_x]"
      ],
      "execution_count": 0,
      "outputs": []
    },
    {
      "cell_type": "code",
      "metadata": {
        "id": "hMEzRiyEsxDV",
        "colab_type": "code",
        "outputId": "f2fca266-046f-4c5b-c863-1c2bd8bfa12a",
        "colab": {
          "base_uri": "https://localhost:8080/",
          "height": 353
        }
      },
      "source": [
        "#Depict class imbalance for the subtask A\n",
        "sns.set(font_scale=1.0)\n",
        "countplt=sns.countplot(x='subtask_a', data=training_dataset, palette ='hls')\n",
        "plt.show()\n",
        "\n",
        "print(training_dataset.groupby('subtask_a').count()['id'])"
      ],
      "execution_count": 10,
      "outputs": [
        {
          "output_type": "display_data",
          "data": {
            "image/png": "[encoded data removed]",
            "text/plain": [
              "<Figure size 432x288 with 1 Axes>"
            ]
          },
          "metadata": {
            "tags": []
          }
        },
        {
          "output_type": "stream",
          "text": [
            "subtask_a\n",
            "NOT    8840\n",
            "OFF    4400\n",
            "Name: id, dtype: int64\n"
          ],
          "name": "stdout"
        }
      ]
    },
    {
      "cell_type": "code",
      "metadata": {
        "id": "kyyLmYKDvhLG",
        "colab_type": "code",
        "colab": {}
      },
      "source": [
        ""
      ],
      "execution_count": 0,
      "outputs": []
    }
  ]
}