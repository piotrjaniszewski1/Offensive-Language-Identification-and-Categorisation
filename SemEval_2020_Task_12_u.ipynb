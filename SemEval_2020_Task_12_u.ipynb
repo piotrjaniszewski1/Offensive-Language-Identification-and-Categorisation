{
  "nbformat": 4,
  "nbformat_minor": 0,
  "metadata": {
    "colab": {
      "name": "SemEval_2020_Task_12.ipynb",
      "provenance": [],
      "collapsed_sections": [
        "NyaYR8Q_UeRa",
        "dXtKi4bVUmV3",
        "e3LIsPZKU6kN",
        "pGMClr1qVr0V"
      ],
      "toc_visible": true
    },
    "kernelspec": {
      "name": "python3",
      "display_name": "Python 3"
    },
    "language_info": {
      "codemirror_mode": {
        "name": "ipython",
        "version": 3
      },
      "file_extension": ".py",
      "mimetype": "text/x-python",
      "name": "python",
      "nbconvert_exporter": "python",
      "pygments_lexer": "ipython3",
      "version": "3.7.3"
    },
    "accelerator": "GPU"
  },
  "cells": [
    {
      "cell_type": "markdown",
      "metadata": {
        "id": "y38PprNWUWon",
        "colab_type": "text"
      },
      "source": [
        "# SemEval 2020 Task 12: OffensEval2"
      ]
    },
    {
      "cell_type": "markdown",
      "metadata": {
        "id": "NyaYR8Q_UeRa",
        "colab_type": "text"
      },
      "source": [
        "### Installing packages"
      ]
    },
    {
      "cell_type": "code",
      "metadata": {
        "id": "eCCZeQqinhSE",
        "colab_type": "code",
        "colab": {
          "base_uri": "https://localhost:8080/",
          "height": 121
        },
        "outputId": "9debb3c3-1bfa-418f-f5a7-5ef272141884"
      },
      "source": [
        "!pip install unidecode"
      ],
      "execution_count": 1,
      "outputs": [
        {
          "output_type": "stream",
          "text": [
            "Collecting unidecode\n",
            "\u001b[?25l  Downloading https://files.pythonhosted.org/packages/d0/42/d9edfed04228bacea2d824904cae367ee9efd05e6cce7ceaaedd0b0ad964/Unidecode-1.1.1-py2.py3-none-any.whl (238kB)\n",
            "\r\u001b[K     |█▍                              | 10kB 28.9MB/s eta 0:00:01\r\u001b[K     |██▊                             | 20kB 1.7MB/s eta 0:00:01\r\u001b[K     |████▏                           | 30kB 2.4MB/s eta 0:00:01\r\u001b[K     |█████▌                          | 40kB 1.6MB/s eta 0:00:01\r\u001b[K     |██████▉                         | 51kB 2.0MB/s eta 0:00:01\r\u001b[K     |████████▎                       | 61kB 2.4MB/s eta 0:00:01\r\u001b[K     |█████████▋                      | 71kB 2.8MB/s eta 0:00:01\r\u001b[K     |███████████                     | 81kB 3.2MB/s eta 0:00:01\r\u001b[K     |████████████▍                   | 92kB 3.5MB/s eta 0:00:01\r\u001b[K     |█████████████▊                  | 102kB 2.7MB/s eta 0:00:01\r\u001b[K     |███████████████▏                | 112kB 2.7MB/s eta 0:00:01\r\u001b[K     |████████████████▌               | 122kB 2.7MB/s eta 0:00:01\r\u001b[K     |█████████████████▉              | 133kB 2.7MB/s eta 0:00:01\r\u001b[K     |███████████████████▎            | 143kB 2.7MB/s eta 0:00:01\r\u001b[K     |████████████████████▋           | 153kB 2.7MB/s eta 0:00:01\r\u001b[K     |██████████████████████          | 163kB 2.7MB/s eta 0:00:01\r\u001b[K     |███████████████████████▍        | 174kB 2.7MB/s eta 0:00:01\r\u001b[K     |████████████████████████▊       | 184kB 2.7MB/s eta 0:00:01\r\u001b[K     |██████████████████████████▏     | 194kB 2.7MB/s eta 0:00:01\r\u001b[K     |███████████████████████████▌    | 204kB 2.7MB/s eta 0:00:01\r\u001b[K     |████████████████████████████▉   | 215kB 2.7MB/s eta 0:00:01\r\u001b[K     |██████████████████████████████▎ | 225kB 2.7MB/s eta 0:00:01\r\u001b[K     |███████████████████████████████▋| 235kB 2.7MB/s eta 0:00:01\r\u001b[K     |████████████████████████████████| 245kB 2.7MB/s \n",
            "\u001b[?25hInstalling collected packages: unidecode\n",
            "Successfully installed unidecode-1.1.1\n"
          ],
          "name": "stdout"
        }
      ]
    },
    {
      "cell_type": "code",
      "metadata": {
        "id": "i3dQyLronmpk",
        "colab_type": "code",
        "colab": {
          "base_uri": "https://localhost:8080/",
          "height": 188
        },
        "outputId": "d0024271-70cd-40be-9b2f-b98135e61b30"
      },
      "source": [
        "!pip install word2number"
      ],
      "execution_count": 2,
      "outputs": [
        {
          "output_type": "stream",
          "text": [
            "Collecting word2number\n",
            "  Downloading https://files.pythonhosted.org/packages/4a/29/a31940c848521f0725f0df6b25dca8917f13a2025b0e8fcbe5d0457e45e6/word2number-1.1.zip\n",
            "Building wheels for collected packages: word2number\n",
            "  Building wheel for word2number (setup.py) ... \u001b[?25l\u001b[?25hdone\n",
            "  Created wheel for word2number: filename=word2number-1.1-cp36-none-any.whl size=5588 sha256=545dbddd5efbfa1a709387fd9a231fb82ce9379636d9426ae53aee65739d0b80\n",
            "  Stored in directory: /root/.cache/pip/wheels/46/2f/53/5f5c1d275492f2fce1cdab9a9bb12d49286dead829a4078e0e\n",
            "Successfully built word2number\n",
            "Installing collected packages: word2number\n",
            "Successfully installed word2number-1.1\n"
          ],
          "name": "stdout"
        }
      ]
    },
    {
      "cell_type": "code",
      "metadata": {
        "id": "FcIxcsYnnwSI",
        "colab_type": "code",
        "colab": {
          "base_uri": "https://localhost:8080/",
          "height": 289
        },
        "outputId": "cd6103b3-4a34-4569-f72d-084e04cf68bb"
      },
      "source": [
        "!pip install contractions"
      ],
      "execution_count": 3,
      "outputs": [
        {
          "output_type": "stream",
          "text": [
            "Collecting contractions\n",
            "  Downloading https://files.pythonhosted.org/packages/5a/6a/7bde208d21b4f7db1b666739dca8826d8fd7af34a14fddfda9b597ab8a45/contractions-0.0.23-py2.py3-none-any.whl\n",
            "Collecting textsearch\n",
            "  Downloading https://files.pythonhosted.org/packages/42/a8/03407021f9555043de5492a2bd7a35c56cc03c2510092b5ec018cae1bbf1/textsearch-0.0.17-py2.py3-none-any.whl\n",
            "Requirement already satisfied: Unidecode in /usr/local/lib/python3.6/dist-packages (from textsearch->contractions) (1.1.1)\n",
            "Collecting pyahocorasick\n",
            "\u001b[?25l  Downloading https://files.pythonhosted.org/packages/f4/9f/f0d8e8850e12829eea2e778f1c90e3c53a9a799b7f412082a5d21cd19ae1/pyahocorasick-1.4.0.tar.gz (312kB)\n",
            "\r\u001b[K     |█                               | 10kB 28.8MB/s eta 0:00:01\r\u001b[K     |██                              | 20kB 1.7MB/s eta 0:00:01\r\u001b[K     |███▏                            | 30kB 2.5MB/s eta 0:00:01\r\u001b[K     |████▏                           | 40kB 3.3MB/s eta 0:00:01\r\u001b[K     |█████▎                          | 51kB 2.1MB/s eta 0:00:01\r\u001b[K     |██████▎                         | 61kB 2.5MB/s eta 0:00:01\r\u001b[K     |███████▍                        | 71kB 2.9MB/s eta 0:00:01\r\u001b[K     |████████▍                       | 81kB 3.3MB/s eta 0:00:01\r\u001b[K     |█████████▌                      | 92kB 3.7MB/s eta 0:00:01\r\u001b[K     |██████████▌                     | 102kB 4.1MB/s eta 0:00:01\r\u001b[K     |███████████▌                    | 112kB 4.1MB/s eta 0:00:01\r\u001b[K     |████████████▋                   | 122kB 4.1MB/s eta 0:00:01\r\u001b[K     |█████████████▋                  | 133kB 4.1MB/s eta 0:00:01\r\u001b[K     |██████████████▊                 | 143kB 4.1MB/s eta 0:00:01\r\u001b[K     |███████████████▊                | 153kB 4.1MB/s eta 0:00:01\r\u001b[K     |████████████████▉               | 163kB 4.1MB/s eta 0:00:01\r\u001b[K     |█████████████████▉              | 174kB 4.1MB/s eta 0:00:01\r\u001b[K     |███████████████████             | 184kB 4.1MB/s eta 0:00:01\r\u001b[K     |████████████████████            | 194kB 4.1MB/s eta 0:00:01\r\u001b[K     |█████████████████████           | 204kB 4.1MB/s eta 0:00:01\r\u001b[K     |██████████████████████          | 215kB 4.1MB/s eta 0:00:01\r\u001b[K     |███████████████████████         | 225kB 4.1MB/s eta 0:00:01\r\u001b[K     |████████████████████████▏       | 235kB 4.1MB/s eta 0:00:01\r\u001b[K     |█████████████████████████▏      | 245kB 4.1MB/s eta 0:00:01\r\u001b[K     |██████████████████████████▎     | 256kB 4.1MB/s eta 0:00:01\r\u001b[K     |███████████████████████████▎    | 266kB 4.1MB/s eta 0:00:01\r\u001b[K     |████████████████████████████▍   | 276kB 4.1MB/s eta 0:00:01\r\u001b[K     |█████████████████████████████▍  | 286kB 4.1MB/s eta 0:00:01\r\u001b[K     |██████████████████████████████▍ | 296kB 4.1MB/s eta 0:00:01\r\u001b[K     |███████████████████████████████▌| 307kB 4.1MB/s eta 0:00:01\r\u001b[K     |████████████████████████████████| 317kB 4.1MB/s \n",
            "\u001b[?25hBuilding wheels for collected packages: pyahocorasick\n",
            "  Building wheel for pyahocorasick (setup.py) ... \u001b[?25l\u001b[?25hdone\n",
            "  Created wheel for pyahocorasick: filename=pyahocorasick-1.4.0-cp36-cp36m-linux_x86_64.whl size=81699 sha256=7b36899fe1bb37716f4a3b2708f7bf417f755431594cbc8f1e72b19911a3b9c0\n",
            "  Stored in directory: /root/.cache/pip/wheels/0a/90/61/87a55f5b459792fbb2b7ba6b31721b06ff5cf6bde541b40994\n",
            "Successfully built pyahocorasick\n",
            "Installing collected packages: pyahocorasick, textsearch, contractions\n",
            "Successfully installed contractions-0.0.23 pyahocorasick-1.4.0 textsearch-0.0.17\n"
          ],
          "name": "stdout"
        }
      ]
    },
    {
      "cell_type": "code",
      "metadata": {
        "id": "2ByAdkYDn1kv",
        "colab_type": "code",
        "colab": {
          "base_uri": "https://localhost:8080/",
          "height": 121
        },
        "outputId": "91157ec6-5b9d-4baf-b09a-e60ac03a7892"
      },
      "source": [
        "!pip install wordsegment"
      ],
      "execution_count": 4,
      "outputs": [
        {
          "output_type": "stream",
          "text": [
            "Collecting wordsegment\n",
            "\u001b[?25l  Downloading https://files.pythonhosted.org/packages/cf/6c/e6f4734d6f7d28305f52ec81377d7ce7d1856b97b814278e9960183235ad/wordsegment-1.3.1-py2.py3-none-any.whl (4.8MB)\n",
            "\u001b[K     |████████████████████████████████| 4.8MB 2.8MB/s \n",
            "\u001b[?25hInstalling collected packages: wordsegment\n",
            "Successfully installed wordsegment-1.3.1\n"
          ],
          "name": "stdout"
        }
      ]
    },
    {
      "cell_type": "markdown",
      "metadata": {
        "id": "dXtKi4bVUmV3",
        "colab_type": "text"
      },
      "source": [
        "## Data preprocessing"
      ]
    },
    {
      "cell_type": "code",
      "metadata": {
        "colab_type": "code",
        "id": "LP7i81J8twMn",
        "colab": {}
      },
      "source": [
        "import numpy as np\n",
        "import pandas as pd\n",
        "import matplotlib.pyplot as plt\n",
        "import seaborn as sns\n",
        "from sklearn.model_selection import train_test_split\n",
        "import spacy\n",
        "from bs4 import BeautifulSoup\n",
        "import unidecode\n",
        "from word2number import w2n\n",
        "import contractions\n",
        "import gensim.downloader as api\n",
        "import re\n",
        "import wordsegment\n",
        "\n",
        "wordsegment.load()"
      ],
      "execution_count": 0,
      "outputs": []
    },
    {
      "cell_type": "code",
      "metadata": {
        "colab_type": "code",
        "id": "mER1mPUtiaPl",
        "outputId": "ceef2f86-5c34-4e51-93b3-fa578884fee4",
        "colab": {
          "base_uri": "https://localhost:8080/",
          "height": 561
        }
      },
      "source": [
        "#Import data\n",
        "training_examples_url = 'https://raw.githubusercontent.com/piotrjaniszewski1/SemEval-2020-Task12/master/data2019/olid-training-v1.0.tsv'\n",
        "training_dataset = pd.read_csv(training_examples_url, delimiter='\\t')\n",
        "print(training_dataset.head())\n",
        "test_tweets_url = 'https://raw.githubusercontent.com/piotrjaniszewski1/SemEval-2020-Task12/master/data2019/testset-levela.tsv'\n",
        "test_tweets = pd.read_csv(test_tweets_url, delimiter='\\t')\n",
        "print(test_tweets.head())\n",
        "test_labels_url = 'https://raw.githubusercontent.com/piotrjaniszewski1/SemEval-2020-Task12/master/data2019/labels-levela.csv'\n",
        "test_labels = pd.read_csv(test_labels_url, delimiter=',', header=None, names=[\"id\", \"label\"])\n",
        "print(test_labels.head())\n",
        "test_dataset = test_tweets.set_index(\"id\").join(test_labels.set_index(\"id\"))\n",
        "test_dataset.head()"
      ],
      "execution_count": 6,
      "outputs": [
        {
          "output_type": "stream",
          "text": [
            "      id                                              tweet  ... subtask_b subtask_c\n",
            "0  86426  @USER She should ask a few native Americans wh...  ...       UNT       NaN\n",
            "1  90194  @USER @USER Go home you’re drunk!!! @USER #MAG...  ...       TIN       IND\n",
            "2  16820  Amazon is investigating Chinese employees who ...  ...       NaN       NaN\n",
            "3  62688  @USER Someone should'veTaken\" this piece of sh...  ...       UNT       NaN\n",
            "4  43605  @USER @USER Obama wanted liberals &amp; illega...  ...       NaN       NaN\n",
            "\n",
            "[5 rows x 5 columns]\n",
            "      id                                              tweet\n",
            "0  15923  #WhoIsQ #WheresTheServer #DumpNike #DECLASFISA...\n",
            "1  27014  #ConstitutionDay is revered by Conservatives, ...\n",
            "2  30530  #FOXNews #NRA #MAGA #POTUS #TRUMP #2ndAmendmen...\n",
            "3  13876  #Watching #Boomer getting the news that she is...\n",
            "4  60133  #NoPasaran: Unity demo to oppose the far-right...\n",
            "      id label\n",
            "0  15923   OFF\n",
            "1  27014   NOT\n",
            "2  30530   NOT\n",
            "3  13876   NOT\n",
            "4  60133   OFF\n"
          ],
          "name": "stdout"
        },
        {
          "output_type": "execute_result",
          "data": {
            "text/html": [
              "<div>\n",
              "<style scoped>\n",
              "    .dataframe tbody tr th:only-of-type {\n",
              "        vertical-align: middle;\n",
              "    }\n",
              "\n",
              "    .dataframe tbody tr th {\n",
              "        vertical-align: top;\n",
              "    }\n",
              "\n",
              "    .dataframe thead th {\n",
              "        text-align: right;\n",
              "    }\n",
              "</style>\n",
              "<table border=\"1\" class=\"dataframe\">\n",
              "  <thead>\n",
              "    <tr style=\"text-align: right;\">\n",
              "      <th></th>\n",
              "      <th>tweet</th>\n",
              "      <th>label</th>\n",
              "    </tr>\n",
              "    <tr>\n",
              "      <th>id</th>\n",
              "      <th></th>\n",
              "      <th></th>\n",
              "    </tr>\n",
              "  </thead>\n",
              "  <tbody>\n",
              "    <tr>\n",
              "      <th>15923</th>\n",
              "      <td>#WhoIsQ #WheresTheServer #DumpNike #DECLASFISA...</td>\n",
              "      <td>OFF</td>\n",
              "    </tr>\n",
              "    <tr>\n",
              "      <th>27014</th>\n",
              "      <td>#ConstitutionDay is revered by Conservatives, ...</td>\n",
              "      <td>NOT</td>\n",
              "    </tr>\n",
              "    <tr>\n",
              "      <th>30530</th>\n",
              "      <td>#FOXNews #NRA #MAGA #POTUS #TRUMP #2ndAmendmen...</td>\n",
              "      <td>NOT</td>\n",
              "    </tr>\n",
              "    <tr>\n",
              "      <th>13876</th>\n",
              "      <td>#Watching #Boomer getting the news that she is...</td>\n",
              "      <td>NOT</td>\n",
              "    </tr>\n",
              "    <tr>\n",
              "      <th>60133</th>\n",
              "      <td>#NoPasaran: Unity demo to oppose the far-right...</td>\n",
              "      <td>OFF</td>\n",
              "    </tr>\n",
              "  </tbody>\n",
              "</table>\n",
              "</div>"
            ],
            "text/plain": [
              "                                                   tweet label\n",
              "id                                                            \n",
              "15923  #WhoIsQ #WheresTheServer #DumpNike #DECLASFISA...   OFF\n",
              "27014  #ConstitutionDay is revered by Conservatives, ...   NOT\n",
              "30530  #FOXNews #NRA #MAGA #POTUS #TRUMP #2ndAmendmen...   NOT\n",
              "13876  #Watching #Boomer getting the news that she is...   NOT\n",
              "60133  #NoPasaran: Unity demo to oppose the far-right...   OFF"
            ]
          },
          "metadata": {
            "tags": []
          },
          "execution_count": 6
        }
      ]
    },
    {
      "cell_type": "code",
      "metadata": {
        "colab_type": "code",
        "id": "-xHoiMYYlJQk",
        "colab": {}
      },
      "source": [
        "# training_examples, validation_examples = train_test_split(training_dataset, test_size=0.1)\n",
        "\n",
        "# prepare training examples\n",
        "training_examples_A = training_dataset['tweet'][training_dataset['subtask_a'].notnull()]\n",
        "training_examples_B = training_dataset['tweet'][training_dataset['subtask_b'].notnull()]\n",
        "training_examples_C = training_dataset['tweet'][training_dataset['subtask_c'].notnull()]\n",
        "\n",
        "# prepare validation examples\n",
        "# validation_examples_A = validation_examples['tweet'][validation_examples['subtask_a'].notnull()]\n",
        "# validation_examples_B = validation_examples['tweet'][validation_examples['subtask_b'].notnull()]\n",
        "# validation_examples_C = validation_examples['tweet'][validation_examples['subtask_c'].notnull()]\n",
        "\n",
        "# prepare test examples and labels\n",
        "test_examples_A = test_dataset['tweet'][test_dataset['label'].notnull()]\n",
        "test_labels_A = (test_dataset['label'][test_dataset['label'].notnull()] == 'OFF').astype(int)\n",
        "\n",
        "# prepare training labels\n",
        "training_labels_A = (training_dataset['subtask_a'][training_dataset['subtask_a'].notnull()] == 'OFF').astype(int)\n",
        "training_labels_B = (training_dataset['subtask_b'][training_dataset['subtask_b'].notnull()] == 'TIN').astype(int)\n",
        "c_mapping = {'IND': 0, 'GRP': 1, 'OTH': 2}\n",
        "training_labels_C = training_dataset['subtask_c'][training_dataset['subtask_c'].notnull()].replace(c_mapping)\n",
        "\n",
        "# prepare validation labels\n",
        "# validation_labels_A = (validation_examples['subtask_a'][validation_examples['subtask_a'].notnull()] == 'OFF').astype(int)\n",
        "# validation_labels_B = (validation_examples['subtask_b'][validation_examples['subtask_b'].notnull()] == 'TIN').astype(int)\n",
        "# validation_labels_C = (validation_examples['subtask_c'][validation_examples['subtask_c'].notnull()]).replace(c_mapping)\n",
        "\n",
        "training_examples_A, validation_examples_A, training_labels_A, validation_labels_A = train_test_split(\n",
        "    training_examples_A, training_labels_A, test_size=0.1, stratify=training_labels_A)\n",
        "training_examples_B, validation_examples_B, training_labels_B, validation_labels_B = train_test_split(\n",
        "    training_examples_B, training_labels_B, test_size=0.1, stratify=training_labels_B)\n",
        "training_examples_C, validation_examples_C, training_labels_C, validation_labels_C = train_test_split(\n",
        "    training_examples_C, training_labels_C, test_size=0.1, stratify=training_labels_C)\n",
        "\n",
        "training_x = list(training_examples_A)\n",
        "validation_x = list(validation_examples_A)\n",
        "training_y = list(training_labels_A)\n",
        "validation_y = list(validation_labels_A)\n",
        "test_x = list(test_examples_A)\n",
        "test_y = list(test_labels_A)"
      ],
      "execution_count": 0,
      "outputs": []
    },
    {
      "cell_type": "code",
      "metadata": {
        "colab_type": "code",
        "id": "MAHp6jlH12sD",
        "outputId": "036b291b-8f0c-439c-8c67-596d1a0c64d9",
        "colab": {
          "base_uri": "https://localhost:8080/",
          "height": 70
        }
      },
      "source": [
        "# Preprocessing\n",
        "# hashtags, normalization, removal of - in words like ex-wife, Emoji substitution\n",
        "\n",
        "nlp = spacy.load('en_core_web_sm')\n",
        "\n",
        "# exclude negation words from spacy stopwords list\n",
        "deselect_stop_words = ['no', 'not', 'noone', 'none', 'lacks', 'lack', 'nor', 'never', 'neighter', 'hardly', 'nobody', 'nothing', 'lacking', 'nowhere']\n",
        "for w in deselect_stop_words:\n",
        "    nlp.vocab[w].is_stop = False\n",
        "\n",
        "\n",
        "# remove html tags if exist\n",
        "def strip_html_tags(text):\n",
        "    soup = BeautifulSoup(text, 'html.parser')\n",
        "    stripped_text = soup.get_text(separator=' ')\n",
        "    return stripped_text\n",
        "\n",
        "\n",
        "# remove unnecessary whitespaces\n",
        "def remove_whitespace(text):\n",
        "    text = text.strip()\n",
        "    return ' '.join(text.split())\n",
        "\n",
        "\n",
        "# remove accented chars (e.g. caffè -> caffe)\n",
        "def remove_accented_chars(text):\n",
        "    text = unidecode.unidecode(text)\n",
        "    return text\n",
        "\n",
        "\n",
        "# remove hashes and split words (e.g. '#fortTrump' -> 'fort trump')\n",
        "def split_hashtags(text):\n",
        "    splitted = text.split()\n",
        "    new_word_sequence = []\n",
        "\n",
        "    for chunk in splitted:\n",
        "        if chunk[0] == '#':\n",
        "            chunk = chunk[1:]\n",
        "            new_word_sequence.extend(wordsegment.segment(chunk))\n",
        "        else:\n",
        "            new_word_sequence.append(chunk)\n",
        "        \n",
        "    return ' '.join(tuple(new_word_sequence))\n",
        "\n",
        "\n",
        "# all preprocessing executions\n",
        "def preprocess_basic(text):\n",
        "    text = strip_html_tags(text)\n",
        "    text = remove_whitespace(text)\n",
        "    text = remove_accented_chars(text)\n",
        "    text = contractions.fix(text)\n",
        "    text = split_hashtags(text)\n",
        "    text = text.lower()\n",
        "\n",
        "    doc = nlp(text)\n",
        "\n",
        "    clean_text = []\n",
        "    \n",
        "    for token in doc:\n",
        "        flag = True\n",
        "        edit = token.text\n",
        "        \n",
        "        # remove stop words\n",
        "        if token.is_stop and token.pos_ != 'NUM': \n",
        "            flag = False\n",
        "\n",
        "        # remove punctuations\n",
        "        if token.pos_ == 'PUNCT' and flag == True and token.text != '@user': \n",
        "            flag = False\n",
        "       \n",
        "        # remove special characters\n",
        "        if token.pos_ == 'SYM' and flag == True: \n",
        "            flag = False\n",
        "        \n",
        "        # remove numbers\n",
        "        if (token.pos_ == 'NUM' or token.text.isnumeric()) and flag == True:\n",
        "            flag = False\n",
        "\n",
        "        # convert number words to numeric numbers\n",
        "        if token.pos_ == 'NUM' and flag == True:\n",
        "            edit = w2n.word_to_num(token.text)\n",
        "\n",
        "        # convert tokens to base form\n",
        "        elif token.lemma_ != '-PRON-' and flag == True:\n",
        "            edit = token.lemma_\n",
        "\n",
        "        # append tokens edited and not removed to list \n",
        "        if edit != '' and flag == True:\n",
        "            clean_text.append(edit)        \n",
        "    \n",
        "    return clean_text\n",
        "\n",
        "\n",
        "preprocessed_x = [preprocess_basic(example) for example in training_x[0:10]]\n",
        "print(preprocessed_x[0:10])\n",
        "print(training_x[0:10])"
      ],
      "execution_count": 8,
      "outputs": [
        {
          "output_type": "stream",
          "text": [
            "[['@user', '@user', 'brother', 'think', 'monster', 'url'], ['@user', '@user', 'think', 'great'], ['@user', '@user', 'trump', 'win', 'growth', 'continue', 'crazy', 'liberal', 'thank', 'obama', 'year', 'coarse', 'argument', 'lose', 'leave', 'dispute', 'fact'], ['year', 'ago', 'today', 'cherry', 'oakwood', 'radio', 'hostess', 'go', 'home', 'god', 'url'], ['@user', '@user', 'influential', 'person', 'politic', 'smart', 'left', 'air', 'america', 'work', 'not'], ['@user', 'michael', 'avanetti', 'msp', 'say', 'similar', 'today', 'great', 'tweet', 'away', 'follow'], ['@user', '@user', '@user', '@user', 'anonymous', 'profile', 'pic', 'follower', 'defend', 'trump', 'lot', 'thread', 'no', 'idea', 'prepared', 'not', '+', 'people', 'die', 'pr', 'lack', 'preparedness', 'response', 'damage', 'ice', 'not', 'need', 'm', 'cage', 'child'], ['@user', '@user', 'aim', 'right', 'way', 'whooo', 'whooo'], ['call', 'hotel', 'send', 'shuttle', 'come', 'pick', 'mother', 'sit', '@user', 'terminal', 'airport', 'agent', 'remind', 'wheelchair', 'passenger', 'not', 'speak', 'english', 'hotel', 'find'], ['@user', 'not', 'rehabilitate', 'pervert', 'tolerance', 'disappointed', 'pope']]\n",
            "['@USER @USER Even her brother thinks she is a monster: URL', '@USER @USER I think she is great', '@USER @USER If Trump wins 2020 and growth continues will the crazy liberals still be thanking Obama 6 years from now.  Of coarse the will because when the argument is lost all that is left is too dispute the facts.', '1 Year Ago Today Cherry Oakwood Radio Hostess went Home to be with God. She is… URL', \"@USER @USER Because he is the most influential person in politics.  Much smarter than anyone on the left.   Air America worked out well didn't it.............\", '@USER Michael Avanetti (msp?) said something similar today. He is two more great tweets away from a follow.', \"@USER @USER @USER @USER Anonymous profile pic with 16 followers defending Trump. See that a lot on his threads. Whoever you are you have no idea if they're prepared or not. 2900+ people died in PR from their lack of preparedness and response after the damage. ICE doesn't need $10M more to cage children.\", '@USER @USER And they aiming right way you WHOOO WHOOO !', '4. But I have to called an hotel to send a shuttle to come pick my mother who is sitting at @USER terminal at the airport with their agents.  5. I reminded them that she is a wheelchair passenger who cannot speak English. How will the hotel find her?', '@USER Can’t rehabilitate a pervert zero tolerance So disappointed in this pope']\n"
          ],
          "name": "stdout"
        }
      ]
    },
    {
      "cell_type": "code",
      "metadata": {
        "colab_type": "code",
        "id": "n4Gjm9OhOzug",
        "colab": {}
      },
      "source": [
        "# Remove redundant @user tokens\n",
        "\n",
        "def remove_redundant_users(example):\n",
        "  user_count = 0\n",
        "  new_example = example[:]\n",
        "  for i, token in reversed(list(enumerate(example))):\n",
        "    if token == '@user':\n",
        "      user_count += 1\n",
        "      if user_count > 3:\n",
        "        new_example.pop(i)\n",
        "\n",
        "    else:\n",
        "      user_count = 0\n",
        "\n",
        "  return new_example\n",
        "\n",
        "new_x = [remove_redundant_users(example) for example in preprocessed_x]"
      ],
      "execution_count": 0,
      "outputs": []
    },
    {
      "cell_type": "markdown",
      "metadata": {
        "id": "e3LIsPZKU6kN",
        "colab_type": "text"
      },
      "source": [
        "## Class imbalance"
      ]
    },
    {
      "cell_type": "code",
      "metadata": {
        "colab_type": "code",
        "id": "hMEzRiyEsxDV",
        "outputId": "4756cffd-77e0-4977-ba99-dcc56a2cda1f",
        "colab": {
          "base_uri": "https://localhost:8080/",
          "height": 352
        }
      },
      "source": [
        "#Depict class imbalance for the subtask A\n",
        "sns.set(font_scale=1.0)\n",
        "countplt=sns.countplot(x='subtask_a', data=training_dataset, palette ='hls')\n",
        "plt.show()\n",
        "\n",
        "print(training_dataset.groupby('subtask_a').count()['id'])"
      ],
      "execution_count": 10,
      "outputs": [
        {
          "output_type": "display_data",
          "data": {
            "image/png": "[encoded data removed]",
            "text/plain": [
              "<Figure size 432x288 with 1 Axes>"
            ]
          },
          "metadata": {
            "tags": []
          }
        },
        {
          "output_type": "stream",
          "text": [
            "subtask_a\n",
            "NOT    8840\n",
            "OFF    4400\n",
            "Name: id, dtype: int64\n"
          ],
          "name": "stdout"
        }
      ]
    },
    {
      "cell_type": "markdown",
      "metadata": {
        "id": "Rz7ukMgTU-d2",
        "colab_type": "text"
      },
      "source": [
        "## Preparing embeddings"
      ]
    },
    {
      "cell_type": "code",
      "metadata": {
        "id": "r0YQkm4ooK3h",
        "colab_type": "code",
        "colab": {}
      },
      "source": [
        "preprocessed_train = [remove_redundant_users(preprocess_basic(example)) for example in training_x]"
      ],
      "execution_count": 0,
      "outputs": []
    },
    {
      "cell_type": "code",
      "metadata": {
        "id": "HoMYpR1FbocN",
        "colab_type": "code",
        "colab": {}
      },
      "source": [
        "preprocessed_valid = [remove_redundant_users(preprocess_basic(example)) for example in validation_x]"
      ],
      "execution_count": 0,
      "outputs": []
    },
    {
      "cell_type": "code",
      "metadata": {
        "id": "6OirbbOCRBKR",
        "colab_type": "code",
        "colab": {}
      },
      "source": [
        "preprocessed_test = [remove_redundant_users(preprocess_basic(example)) for example in test_x]"
      ],
      "execution_count": 0,
      "outputs": []
    },
    {
      "cell_type": "code",
      "metadata": {
        "id": "msPRRNXab_yo",
        "colab_type": "code",
        "colab": {}
      },
      "source": [
        "vocab = preprocessed_train + preprocessed_valid + preprocessed_test   # is that correct?"
      ],
      "execution_count": 0,
      "outputs": []
    },
    {
      "cell_type": "code",
      "metadata": {
        "id": "iI7BUJgrv26H",
        "colab_type": "code",
        "colab": {
          "base_uri": "https://localhost:8080/",
          "height": 34
        },
        "outputId": "d4b0bc8e-3710-4ddc-c125-cecd33511fe3"
      },
      "source": [
        "max_lenght = 0\n",
        "for line in vocab:\n",
        "    max_lenght = max(max_lenght, len(line))\n",
        "\n",
        "max_lenght"
      ],
      "execution_count": 15,
      "outputs": [
        {
          "output_type": "execute_result",
          "data": {
            "text/plain": [
              "48"
            ]
          },
          "metadata": {
            "tags": []
          },
          "execution_count": 15
        }
      ]
    },
    {
      "cell_type": "code",
      "metadata": {
        "id": "dghQnzcIoXVP",
        "colab_type": "code",
        "colab": {}
      },
      "source": [
        "from gensim.models import Word2Vec\n",
        "word2vec = Word2Vec(vocab, size=100, min_count=2)     # would bigger size be better?"
      ],
      "execution_count": 0,
      "outputs": []
    },
    {
      "cell_type": "code",
      "metadata": {
        "id": "GvaD9BwOogRt",
        "colab_type": "code",
        "colab": {
          "base_uri": "https://localhost:8080/",
          "height": 70
        },
        "outputId": "5d6ea869-534f-48d5-fa29-d2fd83a24eb6"
      },
      "source": [
        "sim_words = word2vec.wv.most_similar('maga')"
      ],
      "execution_count": 17,
      "outputs": [
        {
          "output_type": "stream",
          "text": [
            "/usr/local/lib/python3.6/dist-packages/gensim/matutils.py:737: FutureWarning: Conversion of the second argument of issubdtype from `int` to `np.signedinteger` is deprecated. In future, it will be treated as `np.int64 == np.dtype(int).type`.\n",
            "  if np.issubdtype(vec.dtype, np.int):\n"
          ],
          "name": "stderr"
        }
      ]
    },
    {
      "cell_type": "code",
      "metadata": {
        "id": "GRcWyILApAdF",
        "colab_type": "code",
        "colab": {
          "base_uri": "https://localhost:8080/",
          "height": 185
        },
        "outputId": "da5f282a-d680-45f4-fe97-02b93c732b07"
      },
      "source": [
        "for i in sim_words[:10]:\n",
        "    print(i)"
      ],
      "execution_count": 18,
      "outputs": [
        {
          "output_type": "stream",
          "text": [
            "('q', 0.9934275150299072)\n",
            "('red', 0.9874956011772156)\n",
            "('wwg1wga', 0.9852309823036194)\n",
            "('kag', 0.9818654656410217)\n",
            "('non', 0.9804006814956665)\n",
            "('cot', 0.9770062565803528)\n",
            "('walk', 0.9768493175506592)\n",
            "('trump', 0.9747064113616943)\n",
            "('awakening', 0.9737950563430786)\n",
            "('confirm', 0.9712246060371399)\n"
          ],
          "name": "stdout"
        }
      ]
    },
    {
      "cell_type": "code",
      "metadata": {
        "id": "hjCVmey9YX25",
        "colab_type": "code",
        "colab": {
          "base_uri": "https://localhost:8080/",
          "height": 34
        },
        "outputId": "976bf829-dd95-4114-9457-c772b31d2efc"
      },
      "source": [
        "w2v_weights = word2vec.wv.vectors\n",
        "vocab_size, embedding_size = w2v_weights.shape\n",
        "\n",
        "print(\"Vocabulary Size: {} - Embedding Dim: {}\".format(vocab_size, embedding_size))"
      ],
      "execution_count": 19,
      "outputs": [
        {
          "output_type": "stream",
          "text": [
            "Vocabulary Size: 7364 - Embedding Dim: 100\n"
          ],
          "name": "stdout"
        }
      ]
    },
    {
      "cell_type": "markdown",
      "metadata": {
        "id": "pGMClr1qVr0V",
        "colab_type": "text"
      },
      "source": [
        "## LSTM model"
      ]
    },
    {
      "cell_type": "markdown",
      "metadata": {
        "id": "4xvIPPhcVLKj",
        "colab_type": "text"
      },
      "source": [
        "### Preparing data representation suitable for model"
      ]
    },
    {
      "cell_type": "code",
      "metadata": {
        "id": "68-znUE_vNH0",
        "colab_type": "code",
        "colab": {}
      },
      "source": [
        "def word2idx(word):\n",
        "    try:\n",
        "        return word2vec.wv.vocab[word].index\n",
        "    # If word is not in index return 0. I realize this means that this\n",
        "    # is the same as the word of index 0 (i.e. most frequent word), but 0s\n",
        "    # will be padded later anyway by the embedding layer (which also\n",
        "    # seems dirty but I couldn't find a better solution right now)\n",
        "    except KeyError:\n",
        "        return 0\n",
        "def idx2word(token):\n",
        "    return word2vec.wv.index2word[token]"
      ],
      "execution_count": 0,
      "outputs": []
    },
    {
      "cell_type": "code",
      "metadata": {
        "id": "xifT1RwCROEC",
        "colab_type": "code",
        "colab": {}
      },
      "source": [
        "def word2idx_set(X):\n",
        "    new_X = []\n",
        "\n",
        "    for line in X:\n",
        "        new_line = []\n",
        "        for w in line:\n",
        "            new_line.append(word2idx(w))\n",
        "        new_X.append(new_line)\n",
        "    \n",
        "    return new_X"
      ],
      "execution_count": 0,
      "outputs": []
    },
    {
      "cell_type": "code",
      "metadata": {
        "id": "bLH-J7clxf6u",
        "colab_type": "code",
        "colab": {
          "base_uri": "https://localhost:8080/",
          "height": 96
        },
        "outputId": "93e1944f-f5fc-4e09-b7ef-6bb3d1fc4c50"
      },
      "source": [
        "from keras.preprocessing.sequence import pad_sequences\n",
        "\n",
        "X_train = np.asarray(word2idx_set(preprocessed_train))\n",
        "X_train = pad_sequences(X_train, maxlen=max_lenght, padding='pre', value=0)\n",
        "\n",
        "X_valid = np.asarray(word2idx_set(preprocessed_valid))\n",
        "X_valid = pad_sequences(X_valid, maxlen=max_lenght, padding='pre', value=0)\n",
        "\n",
        "X_test = np.asarray(word2idx_set(preprocessed_test))\n",
        "X_test = pad_sequences(X_test, maxlen=max_lenght, padding='pre', value=0)\n",
        "\n",
        "X_train.shape, X_valid.shape, X_test.shape"
      ],
      "execution_count": 22,
      "outputs": [
        {
          "output_type": "stream",
          "text": [
            "Using TensorFlow backend.\n"
          ],
          "name": "stderr"
        },
        {
          "output_type": "display_data",
          "data": {
            "text/html": [
              "<p style=\"color: red;\">\n",
              "The default version of TensorFlow in Colab will soon switch to TensorFlow 2.x.<br>\n",
              "We recommend you <a href=\"https://www.tensorflow.org/guide/migrate\" target=\"_blank\">upgrade</a> now \n",
              "or ensure your notebook will continue to use TensorFlow 1.x via the <code>%tensorflow_version 1.x</code> magic:\n",
              "<a href=\"https://colab.research.google.com/notebooks/tensorflow_version.ipynb\" target=\"_blank\">more info</a>.</p>\n"
            ],
            "text/plain": [
              "<IPython.core.display.HTML object>"
            ]
          },
          "metadata": {
            "tags": []
          }
        },
        {
          "output_type": "execute_result",
          "data": {
            "text/plain": [
              "((11916, 48), (1324, 48), (860, 48))"
            ]
          },
          "metadata": {
            "tags": []
          },
          "execution_count": 22
        }
      ]
    },
    {
      "cell_type": "markdown",
      "metadata": {
        "id": "HTGvp6OuVWU4",
        "colab_type": "text"
      },
      "source": [
        "### Defining and training model"
      ]
    },
    {
      "cell_type": "code",
      "metadata": {
        "id": "u43_7J4kJEr7",
        "colab_type": "code",
        "colab": {}
      },
      "source": [
        "from keras.models import Sequential\n",
        "from keras.layers import *\n",
        "from keras.callbacks import ModelCheckpoint"
      ],
      "execution_count": 0,
      "outputs": []
    },
    {
      "cell_type": "code",
      "metadata": {
        "id": "BKFacKxupkVY",
        "colab_type": "code",
        "colab": {
          "base_uri": "https://localhost:8080/",
          "height": 121
        },
        "outputId": "e0d00d25-1790-4b5c-a9d2-d9553976f960"
      },
      "source": [
        "from google.colab import drive\n",
        "drive.mount('/content/drive')\n",
        "PATH_TO_DIR = '/content/drive/My Drive/STUDIA/SEM 9/pracownia/'"
      ],
      "execution_count": 24,
      "outputs": [
        {
          "output_type": "stream",
          "text": [
            "Go to this URL in a browser: https://accounts.google.com/o/oauth2/auth?client_id=947318989803-6bn6qk8qdgf4n4g3pfee6491hc0brc4i.apps.googleusercontent.com&redirect_uri=urn%3aietf%3awg%3aoauth%3a2.0%3aoob&response_type=code&scope=email%20https%3a%2f%2fwww.googleapis.com%2fauth%2fdocs.test%20https%3a%2f%2fwww.googleapis.com%2fauth%2fdrive%20https%3a%2f%2fwww.googleapis.com%2fauth%2fdrive.photos.readonly%20https%3a%2f%2fwww.googleapis.com%2fauth%2fpeopleapi.readonly\n",
            "\n",
            "Enter your authorization code:\n",
            "··········\n",
            "Mounted at /content/drive\n"
          ],
          "name": "stdout"
        }
      ]
    },
    {
      "cell_type": "markdown",
      "metadata": {
        "id": "Wm5-wcPBhlDH",
        "colab_type": "text"
      },
      "source": [
        "### Bidirectionl LSTM"
      ]
    },
    {
      "cell_type": "code",
      "metadata": {
        "id": "KT8ayDdPhkZI",
        "colab_type": "code",
        "colab": {
          "base_uri": "https://localhost:8080/",
          "height": 319
        },
        "outputId": "48de2f79-8aaf-4302-c9f7-2faf56f234b4"
      },
      "source": [
        "model = Sequential()\n",
        "\n",
        "# Keras Embedding layer with Word2Vec weights initialization\n",
        "model.add(Embedding(input_dim=vocab_size,\n",
        "                    output_dim=embedding_size,\n",
        "                    weights=[w2v_weights],\n",
        "                    input_length=max_lenght,\n",
        "                    mask_zero=True))\n",
        "\n",
        "model.add(Dropout(0.2))\n",
        "model.add(Bidirectional(LSTM(100)))\n",
        "model.add(Dropout(0.2))\n",
        "model.add(Dense(1, activation='sigmoid'))\n",
        "model.summary()\n",
        "\n",
        "model.compile(optimizer='adam', loss='binary_crossentropy', metrics=['accuracy'])"
      ],
      "execution_count": 44,
      "outputs": [
        {
          "output_type": "stream",
          "text": [
            "Model: \"sequential_4\"\n",
            "_________________________________________________________________\n",
            "Layer (type)                 Output Shape              Param #   \n",
            "=================================================================\n",
            "embedding_4 (Embedding)      (None, 48, 100)           736400    \n",
            "_________________________________________________________________\n",
            "dropout_2 (Dropout)          (None, 48, 100)           0         \n",
            "_________________________________________________________________\n",
            "bidirectional_1 (Bidirection (None, 200)               160800    \n",
            "_________________________________________________________________\n",
            "dropout_3 (Dropout)          (None, 200)               0         \n",
            "_________________________________________________________________\n",
            "dense_6 (Dense)              (None, 1)                 201       \n",
            "=================================================================\n",
            "Total params: 897,401\n",
            "Trainable params: 897,401\n",
            "Non-trainable params: 0\n",
            "_________________________________________________________________\n"
          ],
          "name": "stdout"
        }
      ]
    },
    {
      "cell_type": "code",
      "metadata": {
        "id": "Wo6JBZ8-h4Qv",
        "colab_type": "code",
        "colab": {
          "base_uri": "https://localhost:8080/",
          "height": 370
        },
        "outputId": "6d3693a3-b97d-4976-a733-52b0a6e5a751"
      },
      "source": [
        "mc = ModelCheckpoint(PATH_TO_DIR + 'best_bidir.h5',\n",
        "                     monitor='val_loss',\n",
        "                     mode='min',\n",
        "                     verbose=1,\n",
        "                     save_best_only=True)\n",
        "\n",
        "history = model.fit(X_train, training_y, epochs=5, batch_size=64,\n",
        "                    validation_data=(X_valid, validation_y), verbose=1, callbacks=[mc])"
      ],
      "execution_count": 45,
      "outputs": [
        {
          "output_type": "stream",
          "text": [
            "Train on 11916 samples, validate on 1324 samples\n",
            "Epoch 1/5\n",
            "11916/11916 [==============================] - 38s 3ms/step - loss: 0.6280 - acc: 0.6677 - val_loss: 0.5818 - val_acc: 0.7032\n",
            "\n",
            "Epoch 00001: val_loss improved from inf to 0.58182, saving model to /content/drive/My Drive/STUDIA/SEM 9/pracownia/best_bidir.h5\n",
            "Epoch 2/5\n",
            "11916/11916 [==============================] - 36s 3ms/step - loss: 0.4907 - acc: 0.7734 - val_loss: 0.5058 - val_acc: 0.7711\n",
            "\n",
            "Epoch 00002: val_loss improved from 0.58182 to 0.50576, saving model to /content/drive/My Drive/STUDIA/SEM 9/pracownia/best_bidir.h5\n",
            "Epoch 3/5\n",
            "11916/11916 [==============================] - 36s 3ms/step - loss: 0.3573 - acc: 0.8515 - val_loss: 0.5854 - val_acc: 0.7470\n",
            "\n",
            "Epoch 00003: val_loss did not improve from 0.50576\n",
            "Epoch 4/5\n",
            "11916/11916 [==============================] - 36s 3ms/step - loss: 0.2833 - acc: 0.8858 - val_loss: 0.6982 - val_acc: 0.7440\n",
            "\n",
            "Epoch 00004: val_loss did not improve from 0.50576\n",
            "Epoch 5/5\n",
            "11916/11916 [==============================] - 37s 3ms/step - loss: 0.2320 - acc: 0.9088 - val_loss: 0.8250 - val_acc: 0.7107\n",
            "\n",
            "Epoch 00005: val_loss did not improve from 0.50576\n"
          ],
          "name": "stdout"
        }
      ]
    },
    {
      "cell_type": "code",
      "metadata": {
        "id": "7-L7c4s9jzQj",
        "colab_type": "code",
        "colab": {
          "base_uri": "https://localhost:8080/",
          "height": 1000
        },
        "outputId": "f29281f5-dd3a-48b3-e5f3-88b5ca768eaf"
      },
      "source": [
        "# Plotting Loss and Accuracy Graphs\n",
        "plt.figure(figsize=(12, 12))\n",
        "plt.plot(history.history['loss'])\n",
        "plt.plot(history.history['val_loss'])\n",
        "plt.title('Loss')\n",
        "plt.legend(['train', 'val'], loc='upper left')\n",
        "plt.show()\n",
        "\n",
        "plt.figure(figsize=(12, 12))\n",
        "plt.plot(history.history['acc'])\n",
        "plt.plot(history.history['val_acc'])\n",
        "plt.title('Accuracy')\n",
        "plt.legend(['train', 'val'], loc='upper left')\n",
        "plt.show()"
      ],
      "execution_count": 50,
      "outputs": [
        {
          "output_type": "display_data",
          "data": {
            "image/png": "[encoded data removed]",
            "text/plain": [
              "<Figure size 864x864 with 1 Axes>"
            ]
          },
          "metadata": {
            "tags": []
          }
        },
        {
          "output_type": "display_data",
          "data": {
            "image/png": "[encoded data removed]",
            "text/plain": [
              "<Figure size 864x864 with 1 Axes>"
            ]
          },
          "metadata": {
            "tags": []
          }
        }
      ]
    },
    {
      "cell_type": "code",
      "metadata": {
        "id": "TSaceL29ip19",
        "colab_type": "code",
        "colab": {
          "base_uri": "https://localhost:8080/",
          "height": 50
        },
        "outputId": "11c6c1ff-e6a3-44af-8e5e-7b77aed2d41e"
      },
      "source": [
        "model.evaluate(X_test, test_y, batch_size=64)"
      ],
      "execution_count": 46,
      "outputs": [
        {
          "output_type": "stream",
          "text": [
            "860/860 [==============================] - 1s 1ms/step\n"
          ],
          "name": "stdout"
        },
        {
          "output_type": "execute_result",
          "data": {
            "text/plain": [
              "[0.7751507330772489, 0.7406976746958356]"
            ]
          },
          "metadata": {
            "tags": []
          },
          "execution_count": 46
        }
      ]
    },
    {
      "cell_type": "code",
      "metadata": {
        "id": "GvLiWz1hiuKB",
        "colab_type": "code",
        "colab": {}
      },
      "source": [
        "model.save_weights(PATH_TO_DIR + \"check_bidir.h5\")"
      ],
      "execution_count": 0,
      "outputs": []
    },
    {
      "cell_type": "code",
      "metadata": {
        "id": "1fzQfpT2izhV",
        "colab_type": "code",
        "colab": {}
      },
      "source": [
        "model.load_weights(PATH_TO_DIR + 'best_bidir.h5')"
      ],
      "execution_count": 0,
      "outputs": []
    },
    {
      "cell_type": "code",
      "metadata": {
        "id": "bENhAnJxi3pq",
        "colab_type": "code",
        "colab": {
          "base_uri": "https://localhost:8080/",
          "height": 50
        },
        "outputId": "67603005-2c7e-41fc-e165-e3fdb476e403"
      },
      "source": [
        "model.evaluate(X_test, test_y, batch_size=64)"
      ],
      "execution_count": 49,
      "outputs": [
        {
          "output_type": "stream",
          "text": [
            "860/860 [==============================] - 1s 1ms/step\n"
          ],
          "name": "stdout"
        },
        {
          "output_type": "execute_result",
          "data": {
            "text/plain": [
              "[0.4394642321176307, 0.8104651162790698]"
            ]
          },
          "metadata": {
            "tags": []
          },
          "execution_count": 49
        }
      ]
    },
    {
      "cell_type": "markdown",
      "metadata": {
        "id": "-6n89le9ZzUj",
        "colab_type": "text"
      },
      "source": [
        "### LSTM with recurrent dropout"
      ]
    },
    {
      "cell_type": "code",
      "metadata": {
        "id": "mHcE4f9sJDHs",
        "colab_type": "code",
        "colab": {
          "base_uri": "https://localhost:8080/",
          "height": 776
        },
        "outputId": "c4d59927-a038-446b-81c3-b6b8ccf14dab"
      },
      "source": [
        "model = Sequential()\n",
        "\n",
        "# Keras Embedding layer with Word2Vec weights initialization\n",
        "model.add(Embedding(input_dim=vocab_size,\n",
        "                    output_dim=embedding_size,\n",
        "                    weights=[w2v_weights],\n",
        "                    input_length=max_lenght,\n",
        "                    mask_zero=True))\n",
        "\n",
        "model.add(LSTM(100, dropout=0.2, recurrent_dropout=0.2))\n",
        "model.add(Dense(1, activation='sigmoid'))\n",
        "model.summary()\n",
        "\n",
        "model.compile(optimizer='adam', loss='binary_crossentropy', metrics=['accuracy'])"
      ],
      "execution_count": 44,
      "outputs": [
        {
          "output_type": "stream",
          "text": [
            "WARNING:tensorflow:From /usr/local/lib/python3.6/dist-packages/keras/backend/tensorflow_backend.py:66: The name tf.get_default_graph is deprecated. Please use tf.compat.v1.get_default_graph instead.\n",
            "\n",
            "WARNING:tensorflow:From /usr/local/lib/python3.6/dist-packages/keras/backend/tensorflow_backend.py:541: The name tf.placeholder is deprecated. Please use tf.compat.v1.placeholder instead.\n",
            "\n",
            "WARNING:tensorflow:From /usr/local/lib/python3.6/dist-packages/keras/backend/tensorflow_backend.py:4432: The name tf.random_uniform is deprecated. Please use tf.random.uniform instead.\n",
            "\n",
            "WARNING:tensorflow:From /usr/local/lib/python3.6/dist-packages/keras/backend/tensorflow_backend.py:190: The name tf.get_default_session is deprecated. Please use tf.compat.v1.get_default_session instead.\n",
            "\n",
            "WARNING:tensorflow:From /usr/local/lib/python3.6/dist-packages/keras/backend/tensorflow_backend.py:197: The name tf.ConfigProto is deprecated. Please use tf.compat.v1.ConfigProto instead.\n",
            "\n",
            "WARNING:tensorflow:From /usr/local/lib/python3.6/dist-packages/keras/backend/tensorflow_backend.py:203: The name tf.Session is deprecated. Please use tf.compat.v1.Session instead.\n",
            "\n",
            "WARNING:tensorflow:From /usr/local/lib/python3.6/dist-packages/keras/backend/tensorflow_backend.py:207: The name tf.global_variables is deprecated. Please use tf.compat.v1.global_variables instead.\n",
            "\n",
            "WARNING:tensorflow:From /usr/local/lib/python3.6/dist-packages/keras/backend/tensorflow_backend.py:216: The name tf.is_variable_initialized is deprecated. Please use tf.compat.v1.is_variable_initialized instead.\n",
            "\n",
            "WARNING:tensorflow:From /usr/local/lib/python3.6/dist-packages/keras/backend/tensorflow_backend.py:223: The name tf.variables_initializer is deprecated. Please use tf.compat.v1.variables_initializer instead.\n",
            "\n",
            "WARNING:tensorflow:From /usr/local/lib/python3.6/dist-packages/keras/backend/tensorflow_backend.py:148: The name tf.placeholder_with_default is deprecated. Please use tf.compat.v1.placeholder_with_default instead.\n",
            "\n",
            "WARNING:tensorflow:From /usr/local/lib/python3.6/dist-packages/keras/backend/tensorflow_backend.py:3733: calling dropout (from tensorflow.python.ops.nn_ops) with keep_prob is deprecated and will be removed in a future version.\n",
            "Instructions for updating:\n",
            "Please use `rate` instead of `keep_prob`. Rate should be set to `rate = 1 - keep_prob`.\n",
            "WARNING:tensorflow:From /usr/local/lib/python3.6/dist-packages/keras/backend/tensorflow_backend.py:3239: where (from tensorflow.python.ops.array_ops) is deprecated and will be removed in a future version.\n",
            "Instructions for updating:\n",
            "Use tf.where in 2.0, which has the same broadcast rule as np.where\n",
            "Model: \"sequential_1\"\n",
            "_________________________________________________________________\n",
            "Layer (type)                 Output Shape              Param #   \n",
            "=================================================================\n",
            "embedding_1 (Embedding)      (None, 48, 100)           736400    \n",
            "_________________________________________________________________\n",
            "lstm_1 (LSTM)                (None, 100)               80400     \n",
            "_________________________________________________________________\n",
            "dense_1 (Dense)              (None, 1)                 101       \n",
            "=================================================================\n",
            "Total params: 816,901\n",
            "Trainable params: 816,901\n",
            "Non-trainable params: 0\n",
            "_________________________________________________________________\n",
            "WARNING:tensorflow:From /usr/local/lib/python3.6/dist-packages/keras/optimizers.py:793: The name tf.train.Optimizer is deprecated. Please use tf.compat.v1.train.Optimizer instead.\n",
            "\n",
            "WARNING:tensorflow:From /usr/local/lib/python3.6/dist-packages/keras/backend/tensorflow_backend.py:3657: The name tf.log is deprecated. Please use tf.math.log instead.\n",
            "\n"
          ],
          "name": "stdout"
        }
      ]
    },
    {
      "cell_type": "code",
      "metadata": {
        "id": "WdcGYVng0K6C",
        "colab_type": "code",
        "colab": {
          "base_uri": "https://localhost:8080/",
          "height": 457
        },
        "outputId": "ff07f5f6-d0c1-4f4d-bb76-7c74e94fd239"
      },
      "source": [
        "mc = ModelCheckpoint(PATH_TO_DIR + 'best.h5',\n",
        "                     monitor='val_loss',\n",
        "                     mode='min',\n",
        "                     verbose=1,\n",
        "                     save_best_only=True)\n",
        "\n",
        "history = model.fit(X_train, training_y, epochs=5, batch_size=64,\n",
        "                    validation_data=(X_valid, validation_y), verbose=1, callbacks=[mc])"
      ],
      "execution_count": 46,
      "outputs": [
        {
          "output_type": "stream",
          "text": [
            "WARNING:tensorflow:From /usr/local/lib/python3.6/dist-packages/keras/backend/tensorflow_backend.py:1033: The name tf.assign_add is deprecated. Please use tf.compat.v1.assign_add instead.\n",
            "\n",
            "WARNING:tensorflow:From /usr/local/lib/python3.6/dist-packages/keras/backend/tensorflow_backend.py:1020: The name tf.assign is deprecated. Please use tf.compat.v1.assign instead.\n",
            "\n",
            "Train on 11916 samples, validate on 1324 samples\n",
            "Epoch 1/5\n",
            "11916/11916 [==============================] - 24s 2ms/step - loss: 0.6328 - acc: 0.6685 - val_loss: 0.5959 - val_acc: 0.6767\n",
            "\n",
            "Epoch 00001: val_loss improved from inf to 0.59593, saving model to /content/drive/My Drive/STUDIA/SEM 9/pracownia/best.h5\n",
            "Epoch 2/5\n",
            "11916/11916 [==============================] - 23s 2ms/step - loss: 0.5102 - acc: 0.7572 - val_loss: 0.5136 - val_acc: 0.7492\n",
            "\n",
            "Epoch 00002: val_loss improved from 0.59593 to 0.51363, saving model to /content/drive/My Drive/STUDIA/SEM 9/pracownia/best.h5\n",
            "Epoch 3/5\n",
            "11916/11916 [==============================] - 23s 2ms/step - loss: 0.3832 - acc: 0.8364 - val_loss: 0.5458 - val_acc: 0.7583\n",
            "\n",
            "Epoch 00003: val_loss did not improve from 0.51363\n",
            "Epoch 4/5\n",
            "11916/11916 [==============================] - 23s 2ms/step - loss: 0.3061 - acc: 0.8728 - val_loss: 0.6315 - val_acc: 0.7508\n",
            "\n",
            "Epoch 00004: val_loss did not improve from 0.51363\n",
            "Epoch 5/5\n",
            "11916/11916 [==============================] - 23s 2ms/step - loss: 0.2477 - acc: 0.9004 - val_loss: 0.7733 - val_acc: 0.7402\n",
            "\n",
            "Epoch 00005: val_loss did not improve from 0.51363\n"
          ],
          "name": "stdout"
        }
      ]
    },
    {
      "cell_type": "code",
      "metadata": {
        "id": "cz79SX-q4HGe",
        "colab_type": "code",
        "colab": {
          "base_uri": "https://localhost:8080/",
          "height": 1000
        },
        "outputId": "d35f01f3-69ce-44d1-cd33-476de1c324cd"
      },
      "source": [
        "# Plotting Loss and Accuracy Graphs\n",
        "plt.figure(figsize=(12, 12))\n",
        "plt.plot(history.history['loss'])\n",
        "plt.plot(history.history['val_loss'])\n",
        "plt.title('Loss')\n",
        "plt.legend(['train', 'val'], loc='upper left')\n",
        "plt.show()\n",
        "\n",
        "plt.figure(figsize=(12, 12))\n",
        "plt.plot(history.history['acc'])\n",
        "plt.plot(history.history['val_acc'])\n",
        "plt.title('Accuracy')\n",
        "plt.legend(['train', 'val'], loc='upper left')\n",
        "plt.show()"
      ],
      "execution_count": 47,
      "outputs": [
        {
          "output_type": "display_data",
          "data": {
            "image/png": "[encoded data removed]",
            "text/plain": [
              "<Figure size 864x864 with 1 Axes>"
            ]
          },
          "metadata": {
            "tags": []
          }
        },
        {
          "output_type": "display_data",
          "data": {
            "image/png": "[encoded data removed]",
            "text/plain": [
              "<Figure size 864x864 with 1 Axes>"
            ]
          },
          "metadata": {
            "tags": []
          }
        }
      ]
    },
    {
      "cell_type": "code",
      "metadata": {
        "id": "91_fwnSP3-Sv",
        "colab_type": "code",
        "colab": {}
      },
      "source": [
        "model.save_weights(PATH_TO_DIR + 'check2.h5')"
      ],
      "execution_count": 0,
      "outputs": []
    },
    {
      "cell_type": "code",
      "metadata": {
        "id": "OOUFXk-UUFRx",
        "colab_type": "code",
        "colab": {
          "base_uri": "https://localhost:8080/",
          "height": 50
        },
        "outputId": "22d9bb76-a951-4db8-a50a-1c7227de3c03"
      },
      "source": [
        "model.evaluate(X_test, test_y, batch_size=64, verbose=1)"
      ],
      "execution_count": 49,
      "outputs": [
        {
          "output_type": "stream",
          "text": [
            "860/860 [==============================] - 1s 710us/step\n"
          ],
          "name": "stdout"
        },
        {
          "output_type": "execute_result",
          "data": {
            "text/plain": [
              "[0.6473598527353863, 0.7569767450177393]"
            ]
          },
          "metadata": {
            "tags": []
          },
          "execution_count": 49
        }
      ]
    },
    {
      "cell_type": "code",
      "metadata": {
        "id": "W2b_bq7JUQOH",
        "colab_type": "code",
        "colab": {}
      },
      "source": [
        "model.load_weights(PATH_TO_DIR + 'best.h5')"
      ],
      "execution_count": 0,
      "outputs": []
    },
    {
      "cell_type": "code",
      "metadata": {
        "id": "Lb91NQLDUVxr",
        "colab_type": "code",
        "colab": {
          "base_uri": "https://localhost:8080/",
          "height": 50
        },
        "outputId": "cfc163dd-11fe-49f6-8adb-8b5ed5ce572d"
      },
      "source": [
        "model.evaluate(X_test, test_y, batch_size=64, verbose=1)"
      ],
      "execution_count": 51,
      "outputs": [
        {
          "output_type": "stream",
          "text": [
            "860/860 [==============================] - 1s 642us/step\n"
          ],
          "name": "stdout"
        },
        {
          "output_type": "execute_result",
          "data": {
            "text/plain": [
              "[0.4317082051620927, 0.8104651171107625]"
            ]
          },
          "metadata": {
            "tags": []
          },
          "execution_count": 51
        }
      ]
    },
    {
      "cell_type": "markdown",
      "metadata": {
        "id": "c5ozAaB3Z6i6",
        "colab_type": "text"
      },
      "source": [
        "### LSTM with L2 regulatization"
      ]
    },
    {
      "cell_type": "code",
      "metadata": {
        "id": "fyRhvXoFmXBE",
        "colab_type": "code",
        "colab": {}
      },
      "source": [
        "from keras.regularizers import l2\n",
        "from keras.optimizers import Adam"
      ],
      "execution_count": 0,
      "outputs": []
    },
    {
      "cell_type": "code",
      "metadata": {
        "id": "lyxH0zZOmDW7",
        "colab_type": "code",
        "colab": {
          "base_uri": "https://localhost:8080/",
          "height": 524
        },
        "outputId": "1fa758a1-797f-4bd8-d780-591db9f1d18e"
      },
      "source": [
        "model = Sequential()\n",
        "model.add(Embedding(input_dim=vocab_size,\n",
        "                    output_dim=embedding_size,\n",
        "                    weights=[w2v_weights],\n",
        "                    input_length=max_lenght,\n",
        "                    mask_zero=True))\n",
        "\n",
        "model.add(LSTM(100))\n",
        "model.add(Dense(max_lenght, activation='relu', W_regularizer=l2(0.90)))\n",
        "model.add(Dense(1, activation='sigmoid', W_regularizer=l2(0.1)))\n",
        "# adam_1 = Adam(lr=0.008)\n",
        "model.compile(loss='binary_crossentropy', optimizer=\"adam\",metrics=['accuracy'])"
      ],
      "execution_count": 26,
      "outputs": [
        {
          "output_type": "stream",
          "text": [
            "WARNING:tensorflow:From /usr/local/lib/python3.6/dist-packages/keras/backend/tensorflow_backend.py:66: The name tf.get_default_graph is deprecated. Please use tf.compat.v1.get_default_graph instead.\n",
            "\n",
            "WARNING:tensorflow:From /usr/local/lib/python3.6/dist-packages/keras/backend/tensorflow_backend.py:541: The name tf.placeholder is deprecated. Please use tf.compat.v1.placeholder instead.\n",
            "\n",
            "WARNING:tensorflow:From /usr/local/lib/python3.6/dist-packages/keras/backend/tensorflow_backend.py:4432: The name tf.random_uniform is deprecated. Please use tf.random.uniform instead.\n",
            "\n",
            "WARNING:tensorflow:From /usr/local/lib/python3.6/dist-packages/keras/backend/tensorflow_backend.py:190: The name tf.get_default_session is deprecated. Please use tf.compat.v1.get_default_session instead.\n",
            "\n",
            "WARNING:tensorflow:From /usr/local/lib/python3.6/dist-packages/keras/backend/tensorflow_backend.py:197: The name tf.ConfigProto is deprecated. Please use tf.compat.v1.ConfigProto instead.\n",
            "\n",
            "WARNING:tensorflow:From /usr/local/lib/python3.6/dist-packages/keras/backend/tensorflow_backend.py:203: The name tf.Session is deprecated. Please use tf.compat.v1.Session instead.\n",
            "\n",
            "WARNING:tensorflow:From /usr/local/lib/python3.6/dist-packages/keras/backend/tensorflow_backend.py:207: The name tf.global_variables is deprecated. Please use tf.compat.v1.global_variables instead.\n",
            "\n",
            "WARNING:tensorflow:From /usr/local/lib/python3.6/dist-packages/keras/backend/tensorflow_backend.py:216: The name tf.is_variable_initialized is deprecated. Please use tf.compat.v1.is_variable_initialized instead.\n",
            "\n",
            "WARNING:tensorflow:From /usr/local/lib/python3.6/dist-packages/keras/backend/tensorflow_backend.py:223: The name tf.variables_initializer is deprecated. Please use tf.compat.v1.variables_initializer instead.\n",
            "\n",
            "WARNING:tensorflow:From /usr/local/lib/python3.6/dist-packages/keras/backend/tensorflow_backend.py:3239: where (from tensorflow.python.ops.array_ops) is deprecated and will be removed in a future version.\n",
            "Instructions for updating:\n",
            "Use tf.where in 2.0, which has the same broadcast rule as np.where\n",
            "WARNING:tensorflow:From /usr/local/lib/python3.6/dist-packages/keras/optimizers.py:793: The name tf.train.Optimizer is deprecated. Please use tf.compat.v1.train.Optimizer instead.\n",
            "\n",
            "WARNING:tensorflow:From /usr/local/lib/python3.6/dist-packages/keras/backend/tensorflow_backend.py:3657: The name tf.log is deprecated. Please use tf.math.log instead.\n",
            "\n"
          ],
          "name": "stdout"
        },
        {
          "output_type": "stream",
          "text": [
            "/usr/local/lib/python3.6/dist-packages/ipykernel_launcher.py:9: UserWarning: Update your `Dense` call to the Keras 2 API: `Dense(48, activation=\"relu\", kernel_regularizer=<keras.reg...)`\n",
            "  if __name__ == '__main__':\n",
            "/usr/local/lib/python3.6/dist-packages/ipykernel_launcher.py:10: UserWarning: Update your `Dense` call to the Keras 2 API: `Dense(1, activation=\"sigmoid\", kernel_regularizer=<keras.reg...)`\n",
            "  # Remove the CWD from sys.path while we load stuff.\n"
          ],
          "name": "stderr"
        }
      ]
    },
    {
      "cell_type": "code",
      "metadata": {
        "id": "Qp-aAJ_SmUzP",
        "colab_type": "code",
        "colab": {
          "base_uri": "https://localhost:8080/",
          "height": 457
        },
        "outputId": "ed0c5b3d-0961-4643-f5c9-03acb8e9df78"
      },
      "source": [
        "mc = ModelCheckpoint(PATH_TO_DIR + 'best_reg.h5',\n",
        "                     monitor='val_loss',\n",
        "                     mode='min',\n",
        "                     verbose=1,\n",
        "                     save_best_only=True)\n",
        "\n",
        "history = model.fit(X_train, training_y, epochs=5, batch_size=64,\n",
        "                    validation_data=(X_valid, validation_y), verbose=1, callbacks=[mc])"
      ],
      "execution_count": 27,
      "outputs": [
        {
          "output_type": "stream",
          "text": [
            "WARNING:tensorflow:From /usr/local/lib/python3.6/dist-packages/keras/backend/tensorflow_backend.py:1033: The name tf.assign_add is deprecated. Please use tf.compat.v1.assign_add instead.\n",
            "\n",
            "WARNING:tensorflow:From /usr/local/lib/python3.6/dist-packages/keras/backend/tensorflow_backend.py:1020: The name tf.assign is deprecated. Please use tf.compat.v1.assign instead.\n",
            "\n",
            "Train on 11916 samples, validate on 1324 samples\n",
            "Epoch 1/5\n",
            "11916/11916 [==============================] - 19s 2ms/step - loss: 19.2941 - acc: 0.6677 - val_loss: 2.7003 - val_acc: 0.6677\n",
            "\n",
            "Epoch 00001: val_loss improved from inf to 2.70026, saving model to /content/drive/My Drive/STUDIA/SEM 9/pracownia/best_reg.h5\n",
            "Epoch 2/5\n",
            "11916/11916 [==============================] - 18s 2ms/step - loss: 1.1346 - acc: 0.6677 - val_loss: 0.6650 - val_acc: 0.6677\n",
            "\n",
            "Epoch 00002: val_loss improved from 2.70026 to 0.66495, saving model to /content/drive/My Drive/STUDIA/SEM 9/pracownia/best_reg.h5\n",
            "Epoch 3/5\n",
            "11916/11916 [==============================] - 18s 2ms/step - loss: 0.6310 - acc: 0.6677 - val_loss: 0.6254 - val_acc: 0.6677\n",
            "\n",
            "Epoch 00003: val_loss improved from 0.66495 to 0.62541, saving model to /content/drive/My Drive/STUDIA/SEM 9/pracownia/best_reg.h5\n",
            "Epoch 4/5\n",
            "11916/11916 [==============================] - 19s 2ms/step - loss: 0.5875 - acc: 0.7120 - val_loss: 0.6150 - val_acc: 0.7545\n",
            "\n",
            "Epoch 00004: val_loss improved from 0.62541 to 0.61502, saving model to /content/drive/My Drive/STUDIA/SEM 9/pracownia/best_reg.h5\n",
            "Epoch 5/5\n",
            "11916/11916 [==============================] - 19s 2ms/step - loss: 0.5428 - acc: 0.8146 - val_loss: 0.6209 - val_acc: 0.7591\n",
            "\n",
            "Epoch 00005: val_loss did not improve from 0.61502\n"
          ],
          "name": "stdout"
        }
      ]
    },
    {
      "cell_type": "code",
      "metadata": {
        "id": "A_rrxng0pcXI",
        "colab_type": "code",
        "colab": {
          "base_uri": "https://localhost:8080/",
          "height": 1000
        },
        "outputId": "9c30f316-dd1d-41ff-b830-8de90ab63645"
      },
      "source": [
        "# Plotting Loss and Accuracy Graphs\n",
        "plt.figure(figsize=(12, 12))\n",
        "plt.plot(history.history['loss'])\n",
        "plt.plot(history.history['val_loss'])\n",
        "plt.title('Loss')\n",
        "plt.legend(['train', 'val'], loc='upper left')\n",
        "plt.show()\n",
        "\n",
        "plt.figure(figsize=(12, 12))\n",
        "plt.plot(history.history['acc'])\n",
        "plt.plot(history.history['val_acc'])\n",
        "plt.title('Accuracy')\n",
        "plt.legend(['train', 'val'], loc='upper left')\n",
        "plt.show()"
      ],
      "execution_count": 28,
      "outputs": [
        {
          "output_type": "display_data",
          "data": {
            "image/png": "[encoded data removed]",
            "text/plain": [
              "<Figure size 864x864 with 1 Axes>"
            ]
          },
          "metadata": {
            "tags": []
          }
        },
        {
          "output_type": "display_data",
          "data": {
            "image/png": "[encoded data removed]",
            "text/plain": [
              "<Figure size 864x864 with 1 Axes>"
            ]
          },
          "metadata": {
            "tags": []
          }
        }
      ]
    },
    {
      "cell_type": "code",
      "metadata": {
        "id": "jiIpiD9Pb_w7",
        "colab_type": "code",
        "colab": {
          "base_uri": "https://localhost:8080/",
          "height": 50
        },
        "outputId": "f291a970-8a54-45ec-cb04-c2dfa82e4023"
      },
      "source": [
        "model.evaluate(X_test, test_y, batch_size=64)"
      ],
      "execution_count": 29,
      "outputs": [
        {
          "output_type": "stream",
          "text": [
            "860/860 [==============================] - 0s 512us/step\n"
          ],
          "name": "stdout"
        },
        {
          "output_type": "execute_result",
          "data": {
            "text/plain": [
              "[0.5630058126394138, 0.8023255819498106]"
            ]
          },
          "metadata": {
            "tags": []
          },
          "execution_count": 29
        }
      ]
    },
    {
      "cell_type": "code",
      "metadata": {
        "id": "L7Un33ZmcFuT",
        "colab_type": "code",
        "colab": {}
      },
      "source": [
        "model.save_weights(PATH_TO_DIR + 'check_reg.h5')"
      ],
      "execution_count": 0,
      "outputs": []
    },
    {
      "cell_type": "code",
      "metadata": {
        "id": "qtWhwoCTcNph",
        "colab_type": "code",
        "colab": {}
      },
      "source": [
        "model.load_weights(PATH_TO_DIR + 'best_reg.h5')"
      ],
      "execution_count": 0,
      "outputs": []
    },
    {
      "cell_type": "code",
      "metadata": {
        "id": "7Fh66ilHcSWd",
        "colab_type": "code",
        "colab": {
          "base_uri": "https://localhost:8080/",
          "height": 50
        },
        "outputId": "5dae5e15-9dab-4b23-c6b9-0625e0232ed2"
      },
      "source": [
        "model.evaluate(X_test, test_y, batch_size=64)"
      ],
      "execution_count": 32,
      "outputs": [
        {
          "output_type": "stream",
          "text": [
            "860/860 [==============================] - 0s 537us/step\n"
          ],
          "name": "stdout"
        },
        {
          "output_type": "execute_result",
          "data": {
            "text/plain": [
              "[0.5659678345502809, 0.7930232563684153]"
            ]
          },
          "metadata": {
            "tags": []
          },
          "execution_count": 32
        }
      ]
    },
    {
      "cell_type": "markdown",
      "metadata": {
        "id": "0t7pXdgyaNiM",
        "colab_type": "text"
      },
      "source": [
        "### LSTM model with convolution layer"
      ]
    },
    {
      "cell_type": "code",
      "metadata": {
        "id": "XMCIh81KUvYe",
        "colab_type": "code",
        "colab": {
          "base_uri": "https://localhost:8080/",
          "height": 373
        },
        "outputId": "f9766414-9616-40ee-950e-4326b34f3e76"
      },
      "source": [
        "model = Sequential()\n",
        "\n",
        "# Keras Embedding layer with Word2Vec weights initialization\n",
        "model.add(Embedding(input_dim=vocab_size,\n",
        "                    output_dim=embedding_size,\n",
        "                    weights=[w2v_weights],\n",
        "                    input_length=max_lenght))\n",
        "\n",
        "model.add(Conv1D(filters=32, kernel_size=3, padding='same', activation='relu'))\n",
        "model.add(MaxPooling1D(pool_size=2))\n",
        "model.add(LSTM(100))\n",
        "model.add(Dense(1, activation='sigmoid'))\n",
        "model.summary()\n",
        "\n",
        "model.compile(optimizer='adam', loss='binary_crossentropy', metrics=['accuracy'])"
      ],
      "execution_count": 53,
      "outputs": [
        {
          "output_type": "stream",
          "text": [
            "WARNING:tensorflow:From /usr/local/lib/python3.6/dist-packages/keras/backend/tensorflow_backend.py:4267: The name tf.nn.max_pool is deprecated. Please use tf.nn.max_pool2d instead.\n",
            "\n",
            "Model: \"sequential_3\"\n",
            "_________________________________________________________________\n",
            "Layer (type)                 Output Shape              Param #   \n",
            "=================================================================\n",
            "embedding_3 (Embedding)      (None, 48, 100)           736400    \n",
            "_________________________________________________________________\n",
            "conv1d_2 (Conv1D)            (None, 48, 32)            9632      \n",
            "_________________________________________________________________\n",
            "max_pooling1d_1 (MaxPooling1 (None, 24, 32)            0         \n",
            "_________________________________________________________________\n",
            "lstm_2 (LSTM)                (None, 100)               53200     \n",
            "_________________________________________________________________\n",
            "dense_2 (Dense)              (None, 1)                 101       \n",
            "=================================================================\n",
            "Total params: 799,333\n",
            "Trainable params: 799,333\n",
            "Non-trainable params: 0\n",
            "_________________________________________________________________\n"
          ],
          "name": "stdout"
        }
      ]
    },
    {
      "cell_type": "code",
      "metadata": {
        "id": "aeR-n1a9XmV4",
        "colab_type": "code",
        "colab": {
          "base_uri": "https://localhost:8080/",
          "height": 370
        },
        "outputId": "eebb681c-3a7f-4bcf-aba7-ee5f8c247a57"
      },
      "source": [
        "mc = ModelCheckpoint(PATH_TO_DIR + 'best_conv.h5',\n",
        "                     monitor='val_loss',\n",
        "                     mode='min',\n",
        "                     verbose=1,\n",
        "                     save_best_only=True)\n",
        "\n",
        "history = model.fit(X_train, training_y, epochs=5, batch_size=64,\n",
        "                    validation_data=(X_valid, validation_y), verbose=1, callbacks=[mc])"
      ],
      "execution_count": 55,
      "outputs": [
        {
          "output_type": "stream",
          "text": [
            "Train on 11916 samples, validate on 1324 samples\n",
            "Epoch 1/5\n",
            "11916/11916 [==============================] - 10s 798us/step - loss: 0.6285 - acc: 0.6641 - val_loss: 0.6245 - val_acc: 0.6654\n",
            "\n",
            "Epoch 00001: val_loss improved from inf to 0.62454, saving model to /content/drive/My Drive/STUDIA/SEM 9/pracownia/best_conv.h5\n",
            "Epoch 2/5\n",
            "11916/11916 [==============================] - 8s 673us/step - loss: 0.5145 - acc: 0.7473 - val_loss: 0.5608 - val_acc: 0.7311\n",
            "\n",
            "Epoch 00002: val_loss improved from 0.62454 to 0.56080, saving model to /content/drive/My Drive/STUDIA/SEM 9/pracownia/best_conv.h5\n",
            "Epoch 3/5\n",
            "11916/11916 [==============================] - 8s 671us/step - loss: 0.3558 - acc: 0.8491 - val_loss: 0.5940 - val_acc: 0.7175\n",
            "\n",
            "Epoch 00003: val_loss did not improve from 0.56080\n",
            "Epoch 4/5\n",
            "11916/11916 [==============================] - 8s 668us/step - loss: 0.2581 - acc: 0.8959 - val_loss: 0.7336 - val_acc: 0.7122\n",
            "\n",
            "Epoch 00004: val_loss did not improve from 0.56080\n",
            "Epoch 5/5\n",
            "11916/11916 [==============================] - 8s 670us/step - loss: 0.1877 - acc: 0.9278 - val_loss: 0.8868 - val_acc: 0.7085\n",
            "\n",
            "Epoch 00005: val_loss did not improve from 0.56080\n"
          ],
          "name": "stdout"
        }
      ]
    },
    {
      "cell_type": "code",
      "metadata": {
        "id": "u3iAaJwvYGsK",
        "colab_type": "code",
        "colab": {}
      },
      "source": [
        "model.save_weights(PATH_TO_DIR + 'check_conv.h5')"
      ],
      "execution_count": 0,
      "outputs": []
    },
    {
      "cell_type": "code",
      "metadata": {
        "id": "GjSMeSoCYAx-",
        "colab_type": "code",
        "colab": {
          "base_uri": "https://localhost:8080/",
          "height": 50
        },
        "outputId": "89ff990e-4860-4ef8-9fcc-e40f4b875f5c"
      },
      "source": [
        "model.evaluate(X_test, test_y, batch_size=64)"
      ],
      "execution_count": 57,
      "outputs": [
        {
          "output_type": "stream",
          "text": [
            "860/860 [==============================] - 0s 324us/step\n"
          ],
          "name": "stdout"
        },
        {
          "output_type": "execute_result",
          "data": {
            "text/plain": [
              "[0.7262845920961957, 0.7476744180501893]"
            ]
          },
          "metadata": {
            "tags": []
          },
          "execution_count": 57
        }
      ]
    },
    {
      "cell_type": "code",
      "metadata": {
        "id": "obRm91gCYUjE",
        "colab_type": "code",
        "colab": {}
      },
      "source": [
        "model.load_weights(PATH_TO_DIR + 'best_conv.h5')"
      ],
      "execution_count": 0,
      "outputs": []
    },
    {
      "cell_type": "code",
      "metadata": {
        "id": "uTsdZYoSYZ7M",
        "colab_type": "code",
        "colab": {
          "base_uri": "https://localhost:8080/",
          "height": 50
        },
        "outputId": "2d581e5b-7a46-46ef-ea10-cd989f5a3feb"
      },
      "source": [
        "model.evaluate(X_test, test_y, batch_size=64)"
      ],
      "execution_count": 59,
      "outputs": [
        {
          "output_type": "stream",
          "text": [
            "860/860 [==============================] - 0s 312us/step\n"
          ],
          "name": "stdout"
        },
        {
          "output_type": "execute_result",
          "data": {
            "text/plain": [
              "[0.4674119846765385, 0.7755813953488372]"
            ]
          },
          "metadata": {
            "tags": []
          },
          "execution_count": 59
        }
      ]
    },
    {
      "cell_type": "markdown",
      "metadata": {
        "id": "CY1loyZxacS_",
        "colab_type": "text"
      },
      "source": [
        "## SVM model"
      ]
    },
    {
      "cell_type": "code",
      "metadata": {
        "id": "0Ema3CrNeJN3",
        "colab_type": "code",
        "colab": {
          "base_uri": "https://localhost:8080/",
          "height": 84
        },
        "outputId": "24c49254-d4ae-4ce3-cea6-e5aaa68bda81"
      },
      "source": [
        "from sklearn.feature_extraction.text import TfidfVectorizer\n",
        "from sklearn import svm\n",
        "from sklearn.metrics import classification_report, accuracy_score\n",
        "\n",
        "vectorizer = TfidfVectorizer(min_df = 5,\n",
        "                             max_df = 0.8,\n",
        "                             sublinear_tf = True,\n",
        "                             use_idf = True)\n",
        "\n",
        "train_vectors = vectorizer.fit_transform([\" \".join(tweet) for tweet in preprocessed_train])\n",
        "test_vectors = vectorizer.transform([\" \".join(tweet) for tweet in preprocessed_test])\n",
        "\n",
        "# Perform classification with SVM, kernel=linear\n",
        "classifier_linear = svm.SVC(kernel='linear')\n",
        "classifier_linear.fit(train_vectors, training_y)\n",
        "prediction_linear = classifier_linear.predict(test_vectors)\n",
        "\n",
        "# results\n",
        "accuracy = accuracy_score(test_y, prediction_linear, normalize=True, sample_weight=None)\n",
        "\n",
        "print(\"Results for SVC(kernel=linear)\")\n",
        "report = classification_report(test_y, prediction_linear, output_dict=True)\n",
        "print('not offensive: ', report['0'])\n",
        "print('offensive: ', report['1'])\n",
        "print('Accuracy:', accuracy)"
      ],
      "execution_count": 58,
      "outputs": [
        {
          "output_type": "stream",
          "text": [
            "Results for SVC(kernel=linear)\n",
            "not offensive:  {'precision': 0.8286516853932584, 'recall': 0.9516129032258065, 'f1-score': 0.8858858858858858, 'support': 620}\n",
            "offensive:  {'precision': 0.7972972972972973, 'recall': 0.49166666666666664, 'f1-score': 0.6082474226804123, 'support': 240}\n",
            "Accuracy: 0.8232558139534883\n"
          ],
          "name": "stdout"
        }
      ]
    },
    {
      "cell_type": "markdown",
      "metadata": {
        "id": "vcH9cZnLoJID",
        "colab_type": "text"
      },
      "source": [
        "## FastText"
      ]
    },
    {
      "cell_type": "code",
      "metadata": {
        "id": "727xslTmobln",
        "colab_type": "code",
        "colab": {
          "base_uri": "https://localhost:8080/",
          "height": 1000
        },
        "outputId": "177a288b-8403-49c4-9c32-043daeff5d9a"
      },
      "source": [
        "!wget https://github.com/facebookresearch/fastText/archive/0.2.0.zip\n",
        "!unzip 0.2.0.zip\n",
        "%cd fastText-0.2.0\n",
        "!make"
      ],
      "execution_count": 60,
      "outputs": [
        {
          "output_type": "stream",
          "text": [
            "--2019-11-20 11:46:02--  https://github.com/facebookresearch/fastText/archive/0.2.0.zip\n",
            "Resolving github.com (github.com)... 140.82.114.4\n",
            "Connecting to github.com (github.com)|140.82.114.4|:443... connected.\n",
            "HTTP request sent, awaiting response... 302 Found\n",
            "Location: https://codeload.github.com/facebookresearch/fastText/zip/0.2.0 [following]\n",
            "--2019-11-20 11:46:03--  https://codeload.github.com/facebookresearch/fastText/zip/0.2.0\n",
            "Resolving codeload.github.com (codeload.github.com)... 140.82.113.10\n",
            "Connecting to codeload.github.com (codeload.github.com)|140.82.113.10|:443... connected.\n",
            "HTTP request sent, awaiting response... 200 OK\n",
            "Length: unspecified [application/zip]\n",
            "Saving to: ‘0.2.0.zip’\n",
            "\n",
            "0.2.0.zip               [     <=>            ]   4.10M  2.78MB/s    in 1.5s    \n",
            "\n",
            "2019-11-20 11:46:05 (2.78 MB/s) - ‘0.2.0.zip’ saved [4304799]\n",
            "\n",
            "Archive:  0.2.0.zip\n",
            "7842495a4d64c7a3bb4339d45d6e64321d002ed8\n",
            "   creating: fastText-0.2.0/\n",
            "   creating: fastText-0.2.0/.circleci/\n",
            "  inflating: fastText-0.2.0/.circleci/cmake_test.sh  \n",
            "  inflating: fastText-0.2.0/.circleci/config.yml  \n",
            "  inflating: fastText-0.2.0/.circleci/gcc_test.sh  \n",
            "  inflating: fastText-0.2.0/.circleci/pip_test.sh  \n",
            "  inflating: fastText-0.2.0/.circleci/pull_data.sh  \n",
            "  inflating: fastText-0.2.0/.circleci/python_test.sh  \n",
            "  inflating: fastText-0.2.0/.circleci/run_locally.sh  \n",
            "  inflating: fastText-0.2.0/.circleci/setup_circleimg.sh  \n",
            "  inflating: fastText-0.2.0/.circleci/setup_debian.sh  \n",
            "  inflating: fastText-0.2.0/.gitignore  \n",
            "  inflating: fastText-0.2.0/CMakeLists.txt  \n",
            "  inflating: fastText-0.2.0/CONTRIBUTING.md  \n",
            "  inflating: fastText-0.2.0/LICENSE  \n",
            "  inflating: fastText-0.2.0/MANIFEST.in  \n",
            "  inflating: fastText-0.2.0/Makefile  \n",
            "  inflating: fastText-0.2.0/README.md  \n",
            "   creating: fastText-0.2.0/alignment/\n",
            "  inflating: fastText-0.2.0/alignment/README.md  \n",
            "  inflating: fastText-0.2.0/alignment/align.py  \n",
            "  inflating: fastText-0.2.0/alignment/eval.py  \n",
            "  inflating: fastText-0.2.0/alignment/example.sh  \n",
            "  inflating: fastText-0.2.0/alignment/utils.py  \n",
            "  inflating: fastText-0.2.0/classification-example.sh  \n",
            "  inflating: fastText-0.2.0/classification-results.sh  \n",
            "   creating: fastText-0.2.0/docs/\n",
            "  inflating: fastText-0.2.0/docs/aligned-vectors.md  \n",
            "  inflating: fastText-0.2.0/docs/api.md  \n",
            "  inflating: fastText-0.2.0/docs/cheatsheet.md  \n",
            "  inflating: fastText-0.2.0/docs/crawl-vectors.md  \n",
            "  inflating: fastText-0.2.0/docs/dataset.md  \n",
            "  inflating: fastText-0.2.0/docs/english-vectors.md  \n",
            "  inflating: fastText-0.2.0/docs/faqs.md  \n",
            "  inflating: fastText-0.2.0/docs/language-identification.md  \n",
            "  inflating: fastText-0.2.0/docs/options.md  \n",
            "  inflating: fastText-0.2.0/docs/pretrained-vectors.md  \n",
            "  inflating: fastText-0.2.0/docs/references.md  \n",
            "  inflating: fastText-0.2.0/docs/supervised-models.md  \n",
            "  inflating: fastText-0.2.0/docs/supervised-tutorial.md  \n",
            "  inflating: fastText-0.2.0/docs/support.md  \n",
            "  inflating: fastText-0.2.0/docs/unsupervised-tutorials.md  \n",
            "  inflating: fastText-0.2.0/eval.py  \n",
            "  inflating: fastText-0.2.0/get-wikimedia.sh  \n",
            "  inflating: fastText-0.2.0/pretrained-vectors.md  \n",
            "   creating: fastText-0.2.0/python/\n",
            "  inflating: fastText-0.2.0/python/README.md  \n",
            "  inflating: fastText-0.2.0/python/README.rst  \n",
            "   creating: fastText-0.2.0/python/benchmarks/\n",
            "  inflating: fastText-0.2.0/python/benchmarks/README.rst  \n",
            "  inflating: fastText-0.2.0/python/benchmarks/get_word_vector.py  \n",
            "   creating: fastText-0.2.0/python/doc/\n",
            "   creating: fastText-0.2.0/python/doc/examples/\n",
            "  inflating: fastText-0.2.0/python/doc/examples/FastTextEmbeddingBag.py  \n",
            "  inflating: fastText-0.2.0/python/doc/examples/bin_to_vec.py  \n",
            "  inflating: fastText-0.2.0/python/doc/examples/compute_accuracy.py  \n",
            "  inflating: fastText-0.2.0/python/doc/examples/get_vocab.py  \n",
            "  inflating: fastText-0.2.0/python/doc/examples/train_supervised.py  \n",
            "  inflating: fastText-0.2.0/python/doc/examples/train_unsupervised.py  \n",
            "   creating: fastText-0.2.0/python/fastText/\n",
            "  inflating: fastText-0.2.0/python/fastText/FastText.py  \n",
            "  inflating: fastText-0.2.0/python/fastText/__init__.py  \n",
            "   creating: fastText-0.2.0/python/fastText/pybind/\n",
            "  inflating: fastText-0.2.0/python/fastText/pybind/fasttext_pybind.cc  \n",
            "   creating: fastText-0.2.0/python/fastText/tests/\n",
            "  inflating: fastText-0.2.0/python/fastText/tests/__init__.py  \n",
            "  inflating: fastText-0.2.0/python/fastText/tests/test_configurations.py  \n",
            "  inflating: fastText-0.2.0/python/fastText/tests/test_script.py  \n",
            "   creating: fastText-0.2.0/python/fastText/util/\n",
            "  inflating: fastText-0.2.0/python/fastText/util/__init__.py  \n",
            "  inflating: fastText-0.2.0/python/fastText/util/util.py  \n",
            "  inflating: fastText-0.2.0/quantization-example.sh  \n",
            "  inflating: fastText-0.2.0/runtests.py  \n",
            "   creating: fastText-0.2.0/scripts/\n",
            "   creating: fastText-0.2.0/scripts/kbcompletion/\n",
            "  inflating: fastText-0.2.0/scripts/kbcompletion/README.md  \n",
            "  inflating: fastText-0.2.0/scripts/kbcompletion/data.sh  \n",
            "  inflating: fastText-0.2.0/scripts/kbcompletion/eval.cpp  \n",
            "  inflating: fastText-0.2.0/scripts/kbcompletion/fb15k.sh  \n",
            "  inflating: fastText-0.2.0/scripts/kbcompletion/fb15k237.sh  \n",
            "  inflating: fastText-0.2.0/scripts/kbcompletion/svo.sh  \n",
            "  inflating: fastText-0.2.0/scripts/kbcompletion/wn18.sh  \n",
            "   creating: fastText-0.2.0/scripts/quantization/\n",
            "  inflating: fastText-0.2.0/scripts/quantization/quantization-results.sh  \n",
            " extracting: fastText-0.2.0/setup.cfg  \n",
            "  inflating: fastText-0.2.0/setup.py  \n",
            "   creating: fastText-0.2.0/src/\n",
            "  inflating: fastText-0.2.0/src/args.cc  \n",
            "  inflating: fastText-0.2.0/src/args.h  \n",
            "  inflating: fastText-0.2.0/src/dictionary.cc  \n",
            "  inflating: fastText-0.2.0/src/dictionary.h  \n",
            "  inflating: fastText-0.2.0/src/fasttext.cc  \n",
            "  inflating: fastText-0.2.0/src/fasttext.h  \n",
            "  inflating: fastText-0.2.0/src/main.cc  \n",
            "  inflating: fastText-0.2.0/src/matrix.cc  \n",
            "  inflating: fastText-0.2.0/src/matrix.h  \n",
            "  inflating: fastText-0.2.0/src/meter.cc  \n",
            "  inflating: fastText-0.2.0/src/meter.h  \n",
            "  inflating: fastText-0.2.0/src/model.cc  \n",
            "  inflating: fastText-0.2.0/src/model.h  \n",
            "  inflating: fastText-0.2.0/src/productquantizer.cc  \n",
            "  inflating: fastText-0.2.0/src/productquantizer.h  \n",
            "  inflating: fastText-0.2.0/src/qmatrix.cc  \n",
            "  inflating: fastText-0.2.0/src/qmatrix.h  \n",
            "  inflating: fastText-0.2.0/src/real.h  \n",
            "  inflating: fastText-0.2.0/src/utils.cc  \n",
            "  inflating: fastText-0.2.0/src/utils.h  \n",
            "  inflating: fastText-0.2.0/src/vector.cc  \n",
            "  inflating: fastText-0.2.0/src/vector.h  \n",
            "   creating: fastText-0.2.0/tests/\n",
            "  inflating: fastText-0.2.0/tests/fetch_test_data.sh  \n",
            "   creating: fastText-0.2.0/website/\n",
            "  inflating: fastText-0.2.0/website/README.md  \n",
            "   creating: fastText-0.2.0/website/blog/\n",
            "  inflating: fastText-0.2.0/website/blog/2016-08-18-blog-post.md  \n",
            "  inflating: fastText-0.2.0/website/blog/2017-05-02-blog-post.md  \n",
            "  inflating: fastText-0.2.0/website/blog/2017-10-02-blog-post.md  \n",
            "   creating: fastText-0.2.0/website/core/\n",
            "  inflating: fastText-0.2.0/website/core/Footer.js  \n",
            "  inflating: fastText-0.2.0/website/package.json  \n",
            "   creating: fastText-0.2.0/website/pages/\n",
            "   creating: fastText-0.2.0/website/pages/en/\n",
            "  inflating: fastText-0.2.0/website/pages/en/index.js  \n",
            "  inflating: fastText-0.2.0/website/sidebars.json  \n",
            "  inflating: fastText-0.2.0/website/siteConfig.js  \n",
            "   creating: fastText-0.2.0/website/static/\n",
            "   creating: fastText-0.2.0/website/static/docs/\n",
            "   creating: fastText-0.2.0/website/static/docs/en/\n",
            "   creating: fastText-0.2.0/website/static/docs/en/html/\n",
            " extracting: fastText-0.2.0/website/static/docs/en/html/.classfasttext_1_1QMatrix-members.html.i4eKqy  \n",
            "  inflating: fastText-0.2.0/website/static/docs/en/html/annotated.html  \n",
            "  inflating: fastText-0.2.0/website/static/docs/en/html/annotated_dup.js  \n",
            "  inflating: fastText-0.2.0/website/static/docs/en/html/args_8cc.html  \n",
            "  inflating: fastText-0.2.0/website/static/docs/en/html/args_8h.html  \n",
            "  inflating: fastText-0.2.0/website/static/docs/en/html/args_8h.js  \n",
            "  inflating: fastText-0.2.0/website/static/docs/en/html/args_8h_source.html  \n",
            " extracting: fastText-0.2.0/website/static/docs/en/html/bc_s.png  \n",
            "  inflating: fastText-0.2.0/website/static/docs/en/html/bdwn.png  \n",
            "  inflating: fastText-0.2.0/website/static/docs/en/html/classes.html  \n",
            "  inflating: fastText-0.2.0/website/static/docs/en/html/classfasttext_1_1Args-members.html  \n",
            "  inflating: fastText-0.2.0/website/static/docs/en/html/classfasttext_1_1Args.html  \n",
            "  inflating: fastText-0.2.0/website/static/docs/en/html/classfasttext_1_1Args.js  \n",
            "  inflating: fastText-0.2.0/website/static/docs/en/html/classfasttext_1_1Dictionary-members.html  \n",
            "  inflating: fastText-0.2.0/website/static/docs/en/html/classfasttext_1_1Dictionary.html  \n",
            "  inflating: fastText-0.2.0/website/static/docs/en/html/classfasttext_1_1Dictionary.js  \n",
            "  inflating: fastText-0.2.0/website/static/docs/en/html/classfasttext_1_1FastText-members.html  \n",
            "  inflating: fastText-0.2.0/website/static/docs/en/html/classfasttext_1_1FastText.html  \n",
            "  inflating: fastText-0.2.0/website/static/docs/en/html/classfasttext_1_1FastText.js  \n",
            "  inflating: fastText-0.2.0/website/static/docs/en/html/classfasttext_1_1Matrix-members.html  \n",
            "  inflating: fastText-0.2.0/website/static/docs/en/html/classfasttext_1_1Matrix.html  \n",
            "  inflating: fastText-0.2.0/website/static/docs/en/html/classfasttext_1_1Matrix.js  \n",
            "  inflating: fastText-0.2.0/website/static/docs/en/html/classfasttext_1_1Model-members.html  \n",
            "  inflating: fastText-0.2.0/website/static/docs/en/html/classfasttext_1_1Model.html  \n",
            "  inflating: fastText-0.2.0/website/static/docs/en/html/classfasttext_1_1Model.js  \n",
            "  inflating: fastText-0.2.0/website/static/docs/en/html/classfasttext_1_1ProductQuantizer-members.html  \n",
            "  inflating: fastText-0.2.0/website/static/docs/en/html/classfasttext_1_1ProductQuantizer.html  \n",
            "  inflating: fastText-0.2.0/website/static/docs/en/html/classfasttext_1_1ProductQuantizer.js  \n",
            "  inflating: fastText-0.2.0/website/static/docs/en/html/classfasttext_1_1QMatrix-members.html  \n",
            "  inflating: fastText-0.2.0/website/static/docs/en/html/classfasttext_1_1QMatrix.html  \n",
            "  inflating: fastText-0.2.0/website/static/docs/en/html/classfasttext_1_1QMatrix.js  \n",
            "  inflating: fastText-0.2.0/website/static/docs/en/html/classfasttext_1_1Vector-members.html  \n",
            "  inflating: fastText-0.2.0/website/static/docs/en/html/classfasttext_1_1Vector.html  \n",
            "  inflating: fastText-0.2.0/website/static/docs/en/html/classfasttext_1_1Vector.js  \n",
            "  inflating: fastText-0.2.0/website/static/docs/en/html/closed.png  \n",
            "  inflating: fastText-0.2.0/website/static/docs/en/html/dictionary_8cc.html  \n",
            "  inflating: fastText-0.2.0/website/static/docs/en/html/dictionary_8h.html  \n",
            "  inflating: fastText-0.2.0/website/static/docs/en/html/dictionary_8h.js  \n",
            "  inflating: fastText-0.2.0/website/static/docs/en/html/dictionary_8h_source.html  \n",
            "  inflating: fastText-0.2.0/website/static/docs/en/html/dir_68267d1309a1af8e8297ef4c3efbcdba.html  \n",
            "  inflating: fastText-0.2.0/website/static/docs/en/html/dir_68267d1309a1af8e8297ef4c3efbcdba.js  \n",
            " extracting: fastText-0.2.0/website/static/docs/en/html/doc.png  \n",
            "  inflating: fastText-0.2.0/website/static/docs/en/html/doxygen.css  \n",
            " extracting: fastText-0.2.0/website/static/docs/en/html/doxygen.png  \n",
            "  inflating: fastText-0.2.0/website/static/docs/en/html/dynsections.js  \n",
            "  inflating: fastText-0.2.0/website/static/docs/en/html/fasttext_8cc.html  \n",
            "  inflating: fastText-0.2.0/website/static/docs/en/html/fasttext_8h.html  \n",
            "  inflating: fastText-0.2.0/website/static/docs/en/html/fasttext_8h.js  \n",
            "  inflating: fastText-0.2.0/website/static/docs/en/html/fasttext_8h_source.html  \n",
            "  inflating: fastText-0.2.0/website/static/docs/en/html/favicon.png  \n",
            "  inflating: fastText-0.2.0/website/static/docs/en/html/files.html  \n",
            "  inflating: fastText-0.2.0/website/static/docs/en/html/files.js  \n",
            " extracting: fastText-0.2.0/website/static/docs/en/html/folderclosed.png  \n",
            " extracting: fastText-0.2.0/website/static/docs/en/html/folderopen.png  \n",
            "  inflating: fastText-0.2.0/website/static/docs/en/html/functions.html  \n",
            "  inflating: fastText-0.2.0/website/static/docs/en/html/functions_0x7e.html  \n",
            "  inflating: fastText-0.2.0/website/static/docs/en/html/functions_b.html  \n",
            "  inflating: fastText-0.2.0/website/static/docs/en/html/functions_c.html  \n",
            "  inflating: fastText-0.2.0/website/static/docs/en/html/functions_d.html  \n",
            "  inflating: fastText-0.2.0/website/static/docs/en/html/functions_dup.js  \n",
            "  inflating: fastText-0.2.0/website/static/docs/en/html/functions_e.html  \n",
            "  inflating: fastText-0.2.0/website/static/docs/en/html/functions_f.html  \n",
            "  inflating: fastText-0.2.0/website/static/docs/en/html/functions_func.html  \n",
            "  inflating: fastText-0.2.0/website/static/docs/en/html/functions_g.html  \n",
            "  inflating: fastText-0.2.0/website/static/docs/en/html/functions_h.html  \n",
            "  inflating: fastText-0.2.0/website/static/docs/en/html/functions_i.html  \n",
            "  inflating: fastText-0.2.0/website/static/docs/en/html/functions_k.html  \n",
            "  inflating: fastText-0.2.0/website/static/docs/en/html/functions_l.html  \n",
            "  inflating: fastText-0.2.0/website/static/docs/en/html/functions_m.html  \n",
            "  inflating: fastText-0.2.0/website/static/docs/en/html/functions_n.html  \n",
            "  inflating: fastText-0.2.0/website/static/docs/en/html/functions_o.html  \n",
            "  inflating: fastText-0.2.0/website/static/docs/en/html/functions_p.html  \n",
            "  inflating: fastText-0.2.0/website/static/docs/en/html/functions_q.html  \n",
            "  inflating: fastText-0.2.0/website/static/docs/en/html/functions_r.html  \n",
            "  inflating: fastText-0.2.0/website/static/docs/en/html/functions_s.html  \n",
            "  inflating: fastText-0.2.0/website/static/docs/en/html/functions_t.html  \n",
            "  inflating: fastText-0.2.0/website/static/docs/en/html/functions_u.html  \n",
            "  inflating: fastText-0.2.0/website/static/docs/en/html/functions_v.html  \n",
            "  inflating: fastText-0.2.0/website/static/docs/en/html/functions_vars.html  \n",
            "  inflating: fastText-0.2.0/website/static/docs/en/html/functions_w.html  \n",
            "  inflating: fastText-0.2.0/website/static/docs/en/html/functions_z.html  \n",
            "  inflating: fastText-0.2.0/website/static/docs/en/html/globals.html  \n",
            "  inflating: fastText-0.2.0/website/static/docs/en/html/globals_defs.html  \n",
            "  inflating: fastText-0.2.0/website/static/docs/en/html/globals_func.html  \n",
            "  inflating: fastText-0.2.0/website/static/docs/en/html/index.html  \n",
            "  inflating: fastText-0.2.0/website/static/docs/en/html/jquery.js  \n",
            "  inflating: fastText-0.2.0/website/static/docs/en/html/main_8cc.html  \n",
            "  inflating: fastText-0.2.0/website/static/docs/en/html/main_8cc.js  \n",
            "  inflating: fastText-0.2.0/website/static/docs/en/html/matrix_8cc.html  \n",
            "  inflating: fastText-0.2.0/website/static/docs/en/html/matrix_8h.html  \n",
            "  inflating: fastText-0.2.0/website/static/docs/en/html/matrix_8h_source.html  \n",
            "  inflating: fastText-0.2.0/website/static/docs/en/html/menu.js  \n",
            "  inflating: fastText-0.2.0/website/static/docs/en/html/menudata.js  \n",
            "  inflating: fastText-0.2.0/website/static/docs/en/html/model_8cc.html  \n",
            "  inflating: fastText-0.2.0/website/static/docs/en/html/model_8h.html  \n",
            "  inflating: fastText-0.2.0/website/static/docs/en/html/model_8h.js  \n",
            "  inflating: fastText-0.2.0/website/static/docs/en/html/model_8h_source.html  \n",
            "  inflating: fastText-0.2.0/website/static/docs/en/html/namespacefasttext.html  \n",
            "  inflating: fastText-0.2.0/website/static/docs/en/html/namespacefasttext.js  \n",
            "  inflating: fastText-0.2.0/website/static/docs/en/html/namespacefasttext_1_1utils.html  \n",
            "  inflating: fastText-0.2.0/website/static/docs/en/html/namespacemembers.html  \n",
            "  inflating: fastText-0.2.0/website/static/docs/en/html/namespacemembers_enum.html  \n",
            "  inflating: fastText-0.2.0/website/static/docs/en/html/namespacemembers_func.html  \n",
            "  inflating: fastText-0.2.0/website/static/docs/en/html/namespacemembers_type.html  \n",
            "  inflating: fastText-0.2.0/website/static/docs/en/html/namespaces.html  \n",
            "  inflating: fastText-0.2.0/website/static/docs/en/html/namespaces.js  \n",
            " extracting: fastText-0.2.0/website/static/docs/en/html/nav_f.png  \n",
            "  inflating: fastText-0.2.0/website/static/docs/en/html/nav_g.png  \n",
            "  inflating: fastText-0.2.0/website/static/docs/en/html/nav_h.png  \n",
            "  inflating: fastText-0.2.0/website/static/docs/en/html/navtree.css  \n",
            "  inflating: fastText-0.2.0/website/static/docs/en/html/navtree.js  \n",
            "  inflating: fastText-0.2.0/website/static/docs/en/html/navtreedata.js  \n",
            "  inflating: fastText-0.2.0/website/static/docs/en/html/navtreeindex0.js  \n",
            "  inflating: fastText-0.2.0/website/static/docs/en/html/navtreeindex1.js  \n",
            "  inflating: fastText-0.2.0/website/static/docs/en/html/open.png  \n",
            "  inflating: fastText-0.2.0/website/static/docs/en/html/productquantizer_8cc.html  \n",
            "  inflating: fastText-0.2.0/website/static/docs/en/html/productquantizer_8cc.js  \n",
            "  inflating: fastText-0.2.0/website/static/docs/en/html/productquantizer_8h.html  \n",
            "  inflating: fastText-0.2.0/website/static/docs/en/html/productquantizer_8h_source.html  \n",
            "  inflating: fastText-0.2.0/website/static/docs/en/html/qmatrix_8cc.html  \n",
            "  inflating: fastText-0.2.0/website/static/docs/en/html/qmatrix_8h.html  \n",
            "  inflating: fastText-0.2.0/website/static/docs/en/html/qmatrix_8h_source.html  \n",
            "  inflating: fastText-0.2.0/website/static/docs/en/html/real_8h.html  \n",
            "  inflating: fastText-0.2.0/website/static/docs/en/html/real_8h.js  \n",
            "  inflating: fastText-0.2.0/website/static/docs/en/html/real_8h_source.html  \n",
            "  inflating: fastText-0.2.0/website/static/docs/en/html/resize.js  \n",
            "   creating: fastText-0.2.0/website/static/docs/en/html/search/\n",
            " extracting: fastText-0.2.0/website/static/docs/en/html/search/.files_7.html.StRRNc  \n",
            " extracting: fastText-0.2.0/website/static/docs/en/html/search/.variables_a.html.1MGQ27  \n",
            "  inflating: fastText-0.2.0/website/static/docs/en/html/search/all_0.html  \n",
            "  inflating: fastText-0.2.0/website/static/docs/en/html/search/all_0.js  \n",
            "  inflating: fastText-0.2.0/website/static/docs/en/html/search/all_1.html  \n",
            "  inflating: fastText-0.2.0/website/static/docs/en/html/search/all_1.js  \n",
            "  inflating: fastText-0.2.0/website/static/docs/en/html/search/all_10.html  \n",
            "  inflating: fastText-0.2.0/website/static/docs/en/html/search/all_10.js  \n",
            "  inflating: fastText-0.2.0/website/static/docs/en/html/search/all_11.html  \n",
            "  inflating: fastText-0.2.0/website/static/docs/en/html/search/all_11.js  \n",
            "  inflating: fastText-0.2.0/website/static/docs/en/html/search/all_12.html  \n",
            "  inflating: fastText-0.2.0/website/static/docs/en/html/search/all_12.js  \n",
            "  inflating: fastText-0.2.0/website/static/docs/en/html/search/all_13.html  \n",
            "  inflating: fastText-0.2.0/website/static/docs/en/html/search/all_13.js  \n",
            "  inflating: fastText-0.2.0/website/static/docs/en/html/search/all_14.html  \n",
            "  inflating: fastText-0.2.0/website/static/docs/en/html/search/all_14.js  \n",
            "  inflating: fastText-0.2.0/website/static/docs/en/html/search/all_15.html  \n",
            "  inflating: fastText-0.2.0/website/static/docs/en/html/search/all_15.js  \n",
            "  inflating: fastText-0.2.0/website/static/docs/en/html/search/all_16.html  \n",
            "  inflating: fastText-0.2.0/website/static/docs/en/html/search/all_16.js  \n",
            "  inflating: fastText-0.2.0/website/static/docs/en/html/search/all_17.html  \n",
            "  inflating: fastText-0.2.0/website/static/docs/en/html/search/all_17.js  \n",
            "  inflating: fastText-0.2.0/website/static/docs/en/html/search/all_2.html  \n",
            "  inflating: fastText-0.2.0/website/static/docs/en/html/search/all_2.js  \n",
            "  inflating: fastText-0.2.0/website/static/docs/en/html/search/all_3.html  \n",
            "  inflating: fastText-0.2.0/website/static/docs/en/html/search/all_3.js  \n",
            "  inflating: fastText-0.2.0/website/static/docs/en/html/search/all_4.html  \n",
            "  inflating: fastText-0.2.0/website/static/docs/en/html/search/all_4.js  \n",
            "  inflating: fastText-0.2.0/website/static/docs/en/html/search/all_5.html  \n",
            "  inflating: fastText-0.2.0/website/static/docs/en/html/search/all_5.js  \n",
            "  inflating: fastText-0.2.0/website/static/docs/en/html/search/all_6.html  \n",
            "  inflating: fastText-0.2.0/website/static/docs/en/html/search/all_6.js  \n",
            "  inflating: fastText-0.2.0/website/static/docs/en/html/search/all_7.html  \n",
            "  inflating: fastText-0.2.0/website/static/docs/en/html/search/all_7.js  \n",
            "  inflating: fastText-0.2.0/website/static/docs/en/html/search/all_8.html  \n",
            "  inflating: fastText-0.2.0/website/static/docs/en/html/search/all_8.js  \n",
            "  inflating: fastText-0.2.0/website/static/docs/en/html/search/all_9.html  \n",
            "  inflating: fastText-0.2.0/website/static/docs/en/html/search/all_9.js  \n",
            "  inflating: fastText-0.2.0/website/static/docs/en/html/search/all_a.html  \n",
            "  inflating: fastText-0.2.0/website/static/docs/en/html/search/all_a.js  \n",
            "  inflating: fastText-0.2.0/website/static/docs/en/html/search/all_b.html  \n",
            "  inflating: fastText-0.2.0/website/static/docs/en/html/search/all_b.js  \n",
            "  inflating: fastText-0.2.0/website/static/docs/en/html/search/all_c.html  \n",
            "  inflating: fastText-0.2.0/website/static/docs/en/html/search/all_c.js  \n",
            "  inflating: fastText-0.2.0/website/static/docs/en/html/search/all_d.html  \n",
            "  inflating: fastText-0.2.0/website/static/docs/en/html/search/all_d.js  \n",
            "  inflating: fastText-0.2.0/website/static/docs/en/html/search/all_e.html  \n",
            "  inflating: fastText-0.2.0/website/static/docs/en/html/search/all_e.js  \n",
            "  inflating: fastText-0.2.0/website/static/docs/en/html/search/all_f.html  \n",
            "  inflating: fastText-0.2.0/website/static/docs/en/html/search/all_f.js  \n",
            "  inflating: fastText-0.2.0/website/static/docs/en/html/search/classes_0.html  \n",
            "  inflating: fastText-0.2.0/website/static/docs/en/html/search/classes_0.js  \n",
            "  inflating: fastText-0.2.0/website/static/docs/en/html/search/classes_1.html  \n",
            "  inflating: fastText-0.2.0/website/static/docs/en/html/search/classes_1.js  \n",
            "  inflating: fastText-0.2.0/website/static/docs/en/html/search/classes_2.html  \n",
            "  inflating: fastText-0.2.0/website/static/docs/en/html/search/classes_2.js  \n",
            "  inflating: fastText-0.2.0/website/static/docs/en/html/search/classes_3.html  \n",
            "  inflating: fastText-0.2.0/website/static/docs/en/html/search/classes_3.js  \n",
            "  inflating: fastText-0.2.0/website/static/docs/en/html/search/classes_4.html  \n",
            "  inflating: fastText-0.2.0/website/static/docs/en/html/search/classes_4.js  \n",
            "  inflating: fastText-0.2.0/website/static/docs/en/html/search/classes_5.html  \n",
            "  inflating: fastText-0.2.0/website/static/docs/en/html/search/classes_5.js  \n",
            "  inflating: fastText-0.2.0/website/static/docs/en/html/search/classes_6.html  \n",
            "  inflating: fastText-0.2.0/website/static/docs/en/html/search/classes_6.js  \n",
            "  inflating: fastText-0.2.0/website/static/docs/en/html/search/classes_7.html  \n",
            "  inflating: fastText-0.2.0/website/static/docs/en/html/search/classes_7.js  \n",
            "  inflating: fastText-0.2.0/website/static/docs/en/html/search/classes_8.html  \n",
            "  inflating: fastText-0.2.0/website/static/docs/en/html/search/classes_8.js  \n",
            " extracting: fastText-0.2.0/website/static/docs/en/html/search/close.png  \n",
            "  inflating: fastText-0.2.0/website/static/docs/en/html/search/defines_0.html  \n",
            "  inflating: fastText-0.2.0/website/static/docs/en/html/search/defines_0.js  \n",
            "  inflating: fastText-0.2.0/website/static/docs/en/html/search/defines_1.html  \n",
            "  inflating: fastText-0.2.0/website/static/docs/en/html/search/defines_1.js  \n",
            "  inflating: fastText-0.2.0/website/static/docs/en/html/search/defines_2.html  \n",
            "  inflating: fastText-0.2.0/website/static/docs/en/html/search/defines_2.js  \n",
            "  inflating: fastText-0.2.0/website/static/docs/en/html/search/defines_3.html  \n",
            "  inflating: fastText-0.2.0/website/static/docs/en/html/search/defines_3.js  \n",
            "  inflating: fastText-0.2.0/website/static/docs/en/html/search/enums_0.html  \n",
            "  inflating: fastText-0.2.0/website/static/docs/en/html/search/enums_0.js  \n",
            "  inflating: fastText-0.2.0/website/static/docs/en/html/search/enums_1.html  \n",
            "  inflating: fastText-0.2.0/website/static/docs/en/html/search/enums_1.js  \n",
            "  inflating: fastText-0.2.0/website/static/docs/en/html/search/enums_2.html  \n",
            "  inflating: fastText-0.2.0/website/static/docs/en/html/search/enums_2.js  \n",
            "  inflating: fastText-0.2.0/website/static/docs/en/html/search/enumvalues_0.html  \n",
            "  inflating: fastText-0.2.0/website/static/docs/en/html/search/enumvalues_0.js  \n",
            "  inflating: fastText-0.2.0/website/static/docs/en/html/search/enumvalues_1.html  \n",
            "  inflating: fastText-0.2.0/website/static/docs/en/html/search/enumvalues_1.js  \n",
            "  inflating: fastText-0.2.0/website/static/docs/en/html/search/enumvalues_2.html  \n",
            "  inflating: fastText-0.2.0/website/static/docs/en/html/search/enumvalues_2.js  \n",
            "  inflating: fastText-0.2.0/website/static/docs/en/html/search/enumvalues_3.html  \n",
            "  inflating: fastText-0.2.0/website/static/docs/en/html/search/enumvalues_3.js  \n",
            "  inflating: fastText-0.2.0/website/static/docs/en/html/search/enumvalues_4.html  \n",
            "  inflating: fastText-0.2.0/website/static/docs/en/html/search/enumvalues_4.js  \n",
            "  inflating: fastText-0.2.0/website/static/docs/en/html/search/enumvalues_5.html  \n",
            "  inflating: fastText-0.2.0/website/static/docs/en/html/search/enumvalues_5.js  \n",
            "  inflating: fastText-0.2.0/website/static/docs/en/html/search/files_0.html  \n",
            "  inflating: fastText-0.2.0/website/static/docs/en/html/search/files_0.js  \n",
            "  inflating: fastText-0.2.0/website/static/docs/en/html/search/files_1.html  \n",
            "  inflating: fastText-0.2.0/website/static/docs/en/html/search/files_1.js  \n",
            "  inflating: fastText-0.2.0/website/static/docs/en/html/search/files_2.html  \n",
            "  inflating: fastText-0.2.0/website/static/docs/en/html/search/files_2.js  \n",
            "  inflating: fastText-0.2.0/website/static/docs/en/html/search/files_3.html  \n",
            "  inflating: fastText-0.2.0/website/static/docs/en/html/search/files_3.js  \n",
            "  inflating: fastText-0.2.0/website/static/docs/en/html/search/files_4.html  \n",
            "  inflating: fastText-0.2.0/website/static/docs/en/html/search/files_4.js  \n",
            "  inflating: fastText-0.2.0/website/static/docs/en/html/search/files_5.html  \n",
            "  inflating: fastText-0.2.0/website/static/docs/en/html/search/files_5.js  \n",
            "  inflating: fastText-0.2.0/website/static/docs/en/html/search/files_6.html  \n",
            "  inflating: fastText-0.2.0/website/static/docs/en/html/search/files_6.js  \n",
            "  inflating: fastText-0.2.0/website/static/docs/en/html/search/files_7.html  \n",
            "  inflating: fastText-0.2.0/website/static/docs/en/html/search/files_7.js  \n",
            "  inflating: fastText-0.2.0/website/static/docs/en/html/search/files_8.html  \n",
            "  inflating: fastText-0.2.0/website/static/docs/en/html/search/files_8.js  \n",
            "  inflating: fastText-0.2.0/website/static/docs/en/html/search/functions_0.html  \n",
            "  inflating: fastText-0.2.0/website/static/docs/en/html/search/functions_0.js  \n",
            "  inflating: fastText-0.2.0/website/static/docs/en/html/search/functions_1.html  \n",
            "  inflating: fastText-0.2.0/website/static/docs/en/html/search/functions_1.js  \n",
            "  inflating: fastText-0.2.0/website/static/docs/en/html/search/functions_10.html  \n",
            "  inflating: fastText-0.2.0/website/static/docs/en/html/search/functions_10.js  \n",
            "  inflating: fastText-0.2.0/website/static/docs/en/html/search/functions_11.html  \n",
            "  inflating: fastText-0.2.0/website/static/docs/en/html/search/functions_11.js  \n",
            "  inflating: fastText-0.2.0/website/static/docs/en/html/search/functions_12.html  \n",
            "  inflating: fastText-0.2.0/website/static/docs/en/html/search/functions_12.js  \n",
            "  inflating: fastText-0.2.0/website/static/docs/en/html/search/functions_13.html  \n",
            "  inflating: fastText-0.2.0/website/static/docs/en/html/search/functions_13.js  \n",
            "  inflating: fastText-0.2.0/website/static/docs/en/html/search/functions_14.html  \n",
            "  inflating: fastText-0.2.0/website/static/docs/en/html/search/functions_14.js  \n",
            "  inflating: fastText-0.2.0/website/static/docs/en/html/search/functions_15.html  \n",
            "  inflating: fastText-0.2.0/website/static/docs/en/html/search/functions_15.js  \n",
            "  inflating: fastText-0.2.0/website/static/docs/en/html/search/functions_16.html  \n",
            "  inflating: fastText-0.2.0/website/static/docs/en/html/search/functions_16.js  \n",
            "  inflating: fastText-0.2.0/website/static/docs/en/html/search/functions_17.html  \n",
            "  inflating: fastText-0.2.0/website/static/docs/en/html/search/functions_17.js  \n",
            "  inflating: fastText-0.2.0/website/static/docs/en/html/search/functions_2.html  \n",
            "  inflating: fastText-0.2.0/website/static/docs/en/html/search/functions_2.js  \n",
            "  inflating: fastText-0.2.0/website/static/docs/en/html/search/functions_3.html  \n",
            "  inflating: fastText-0.2.0/website/static/docs/en/html/search/functions_3.js  \n",
            "  inflating: fastText-0.2.0/website/static/docs/en/html/search/functions_4.html  \n",
            "  inflating: fastText-0.2.0/website/static/docs/en/html/search/functions_4.js  \n",
            "  inflating: fastText-0.2.0/website/static/docs/en/html/search/functions_5.html  \n",
            "  inflating: fastText-0.2.0/website/static/docs/en/html/search/functions_5.js  \n",
            "  inflating: fastText-0.2.0/website/static/docs/en/html/search/functions_6.html  \n",
            "  inflating: fastText-0.2.0/website/static/docs/en/html/search/functions_6.js  \n",
            "  inflating: fastText-0.2.0/website/static/docs/en/html/search/functions_7.html  \n",
            "  inflating: fastText-0.2.0/website/static/docs/en/html/search/functions_7.js  \n",
            "  inflating: fastText-0.2.0/website/static/docs/en/html/search/functions_8.html  \n",
            "  inflating: fastText-0.2.0/website/static/docs/en/html/search/functions_8.js  \n",
            "  inflating: fastText-0.2.0/website/static/docs/en/html/search/functions_9.html  \n",
            "  inflating: fastText-0.2.0/website/static/docs/en/html/search/functions_9.js  \n",
            "  inflating: fastText-0.2.0/website/static/docs/en/html/search/functions_a.html  \n",
            "  inflating: fastText-0.2.0/website/static/docs/en/html/search/functions_a.js  \n",
            "  inflating: fastText-0.2.0/website/static/docs/en/html/search/functions_b.html  \n",
            "  inflating: fastText-0.2.0/website/static/docs/en/html/search/functions_b.js  \n",
            "  inflating: fastText-0.2.0/website/static/docs/en/html/search/functions_c.html  \n",
            "  inflating: fastText-0.2.0/website/static/docs/en/html/search/functions_c.js  \n",
            "  inflating: fastText-0.2.0/website/static/docs/en/html/search/functions_d.html  \n",
            "  inflating: fastText-0.2.0/website/static/docs/en/html/search/functions_d.js  \n",
            "  inflating: fastText-0.2.0/website/static/docs/en/html/search/functions_e.html  \n",
            "  inflating: fastText-0.2.0/website/static/docs/en/html/search/functions_e.js  \n",
            "  inflating: fastText-0.2.0/website/static/docs/en/html/search/functions_f.html  \n",
            "  inflating: fastText-0.2.0/website/static/docs/en/html/search/functions_f.js  \n",
            " extracting: fastText-0.2.0/website/static/docs/en/html/search/mag_sel.png  \n",
            "  inflating: fastText-0.2.0/website/static/docs/en/html/search/namespaces_0.html  \n",
            "  inflating: fastText-0.2.0/website/static/docs/en/html/search/namespaces_0.js  \n",
            "  inflating: fastText-0.2.0/website/static/docs/en/html/search/nomatches.html  \n",
            "  inflating: fastText-0.2.0/website/static/docs/en/html/search/search.css  \n",
            "  inflating: fastText-0.2.0/website/static/docs/en/html/search/search.js  \n",
            " extracting: fastText-0.2.0/website/static/docs/en/html/search/search_l.png  \n",
            "  inflating: fastText-0.2.0/website/static/docs/en/html/search/search_m.png  \n",
            " extracting: fastText-0.2.0/website/static/docs/en/html/search/search_r.png  \n",
            "  inflating: fastText-0.2.0/website/static/docs/en/html/search/searchdata.js  \n",
            "  inflating: fastText-0.2.0/website/static/docs/en/html/search/typedefs_0.html  \n",
            "  inflating: fastText-0.2.0/website/static/docs/en/html/search/typedefs_0.js  \n",
            "  inflating: fastText-0.2.0/website/static/docs/en/html/search/typedefs_1.html  \n",
            "  inflating: fastText-0.2.0/website/static/docs/en/html/search/typedefs_1.js  \n",
            "  inflating: fastText-0.2.0/website/static/docs/en/html/search/variables_0.html  \n",
            "  inflating: fastText-0.2.0/website/static/docs/en/html/search/variables_0.js  \n",
            "  inflating: fastText-0.2.0/website/static/docs/en/html/search/variables_1.html  \n",
            "  inflating: fastText-0.2.0/website/static/docs/en/html/search/variables_1.js  \n",
            "  inflating: fastText-0.2.0/website/static/docs/en/html/search/variables_10.html  \n",
            "  inflating: fastText-0.2.0/website/static/docs/en/html/search/variables_10.js  \n",
            "  inflating: fastText-0.2.0/website/static/docs/en/html/search/variables_11.html  \n",
            "  inflating: fastText-0.2.0/website/static/docs/en/html/search/variables_11.js  \n",
            "  inflating: fastText-0.2.0/website/static/docs/en/html/search/variables_12.html  \n",
            "  inflating: fastText-0.2.0/website/static/docs/en/html/search/variables_12.js  \n",
            "  inflating: fastText-0.2.0/website/static/docs/en/html/search/variables_13.html  \n",
            "  inflating: fastText-0.2.0/website/static/docs/en/html/search/variables_13.js  \n",
            "  inflating: fastText-0.2.0/website/static/docs/en/html/search/variables_2.html  \n",
            "  inflating: fastText-0.2.0/website/static/docs/en/html/search/variables_2.js  \n",
            "  inflating: fastText-0.2.0/website/static/docs/en/html/search/variables_3.html  \n",
            "  inflating: fastText-0.2.0/website/static/docs/en/html/search/variables_3.js  \n",
            "  inflating: fastText-0.2.0/website/static/docs/en/html/search/variables_4.html  \n",
            "  inflating: fastText-0.2.0/website/static/docs/en/html/search/variables_4.js  \n",
            "  inflating: fastText-0.2.0/website/static/docs/en/html/search/variables_5.html  \n",
            "  inflating: fastText-0.2.0/website/static/docs/en/html/search/variables_5.js  \n",
            "  inflating: fastText-0.2.0/website/static/docs/en/html/search/variables_6.html  \n",
            "  inflating: fastText-0.2.0/website/static/docs/en/html/search/variables_6.js  \n",
            "  inflating: fastText-0.2.0/website/static/docs/en/html/search/variables_7.html  \n",
            "  inflating: fastText-0.2.0/website/static/docs/en/html/search/variables_7.js  \n",
            "  inflating: fastText-0.2.0/website/static/docs/en/html/search/variables_8.html  \n",
            "  inflating: fastText-0.2.0/website/static/docs/en/html/search/variables_8.js  \n",
            "  inflating: fastText-0.2.0/website/static/docs/en/html/search/variables_9.html  \n",
            "  inflating: fastText-0.2.0/website/static/docs/en/html/search/variables_9.js  \n",
            "  inflating: fastText-0.2.0/website/static/docs/en/html/search/variables_a.html  \n",
            "  inflating: fastText-0.2.0/website/static/docs/en/html/search/variables_a.js  \n",
            "  inflating: fastText-0.2.0/website/static/docs/en/html/search/variables_b.html  \n",
            "  inflating: fastText-0.2.0/website/static/docs/en/html/search/variables_b.js  \n",
            "  inflating: fastText-0.2.0/website/static/docs/en/html/search/variables_c.html  \n",
            "  inflating: fastText-0.2.0/website/static/docs/en/html/search/variables_c.js  \n",
            "  inflating: fastText-0.2.0/website/static/docs/en/html/search/variables_d.html  \n",
            "  inflating: fastText-0.2.0/website/static/docs/en/html/search/variables_d.js  \n",
            "  inflating: fastText-0.2.0/website/static/docs/en/html/search/variables_e.html  \n",
            "  inflating: fastText-0.2.0/website/static/docs/en/html/search/variables_e.js  \n",
            "  inflating: fastText-0.2.0/website/static/docs/en/html/search/variables_f.html  \n",
            "  inflating: fastText-0.2.0/website/static/docs/en/html/search/variables_f.js  \n",
            "  inflating: fastText-0.2.0/website/static/docs/en/html/splitbar.png  \n",
            "  inflating: fastText-0.2.0/website/static/docs/en/html/structfasttext_1_1Node-members.html  \n",
            "  inflating: fastText-0.2.0/website/static/docs/en/html/structfasttext_1_1Node.html  \n",
            "  inflating: fastText-0.2.0/website/static/docs/en/html/structfasttext_1_1Node.js  \n",
            "  inflating: fastText-0.2.0/website/static/docs/en/html/structfasttext_1_1entry-members.html  \n",
            "  inflating: fastText-0.2.0/website/static/docs/en/html/structfasttext_1_1entry.html  \n",
            "  inflating: fastText-0.2.0/website/static/docs/en/html/structfasttext_1_1entry.js  \n",
            " extracting: fastText-0.2.0/website/static/docs/en/html/sync_off.png  \n",
            " extracting: fastText-0.2.0/website/static/docs/en/html/sync_on.png  \n",
            " extracting: fastText-0.2.0/website/static/docs/en/html/tab_a.png  \n",
            " extracting: fastText-0.2.0/website/static/docs/en/html/tab_b.png  \n",
            " extracting: fastText-0.2.0/website/static/docs/en/html/tab_h.png  \n",
            " extracting: fastText-0.2.0/website/static/docs/en/html/tab_s.png  \n",
            "  inflating: fastText-0.2.0/website/static/docs/en/html/tabs.css  \n",
            "  inflating: fastText-0.2.0/website/static/docs/en/html/utils_8cc.html  \n",
            "  inflating: fastText-0.2.0/website/static/docs/en/html/utils_8cc.js  \n",
            "  inflating: fastText-0.2.0/website/static/docs/en/html/utils_8h.html  \n",
            "  inflating: fastText-0.2.0/website/static/docs/en/html/utils_8h.js  \n",
            "  inflating: fastText-0.2.0/website/static/docs/en/html/utils_8h_source.html  \n",
            "  inflating: fastText-0.2.0/website/static/docs/en/html/vector_8cc.html  \n",
            "  inflating: fastText-0.2.0/website/static/docs/en/html/vector_8cc.js  \n",
            "  inflating: fastText-0.2.0/website/static/docs/en/html/vector_8h.html  \n",
            "  inflating: fastText-0.2.0/website/static/docs/en/html/vector_8h.js  \n",
            "  inflating: fastText-0.2.0/website/static/docs/en/html/vector_8h_source.html  \n",
            "  inflating: fastText-0.2.0/website/static/fasttext.css  \n",
            "   creating: fastText-0.2.0/website/static/img/\n",
            "   creating: fastText-0.2.0/website/static/img/authors/\n",
            "  inflating: fastText-0.2.0/website/static/img/authors/armand_joulin.jpg  \n",
            "  inflating: fastText-0.2.0/website/static/img/authors/christian_puhrsch.png  \n",
            "  inflating: fastText-0.2.0/website/static/img/authors/edouard_grave.jpeg  \n",
            "  inflating: fastText-0.2.0/website/static/img/authors/piotr_bojanowski.jpg  \n",
            "  inflating: fastText-0.2.0/website/static/img/authors/tomas_mikolov.jpg  \n",
            "   creating: fastText-0.2.0/website/static/img/blog/\n",
            "  inflating: fastText-0.2.0/website/static/img/blog/2016-08-18-blog-post-img1.png  \n",
            "  inflating: fastText-0.2.0/website/static/img/blog/2016-08-18-blog-post-img2.png  \n",
            "  inflating: fastText-0.2.0/website/static/img/blog/2017-05-02-blog-post-img1.jpg  \n",
            "  inflating: fastText-0.2.0/website/static/img/blog/2017-05-02-blog-post-img2.jpg  \n",
            "  inflating: fastText-0.2.0/website/static/img/blog/2017-10-02-blog-post-img1.png  \n",
            "  inflating: fastText-0.2.0/website/static/img/cbo_vs_skipgram.png  \n",
            "  inflating: fastText-0.2.0/website/static/img/fasttext-icon-api.png  \n",
            "  inflating: fastText-0.2.0/website/static/img/fasttext-icon-bg-web.png  \n",
            "  inflating: fastText-0.2.0/website/static/img/fasttext-icon-color-square.png  \n",
            "  inflating: fastText-0.2.0/website/static/img/fasttext-icon-color-web.png  \n",
            "  inflating: fastText-0.2.0/website/static/img/fasttext-icon-faq.png  \n",
            "  inflating: fastText-0.2.0/website/static/img/fasttext-icon-tutorial.png  \n",
            "  inflating: fastText-0.2.0/website/static/img/fasttext-icon-white-web.png  \n",
            "  inflating: fastText-0.2.0/website/static/img/fasttext-logo-color-web.png  \n",
            "  inflating: fastText-0.2.0/website/static/img/fasttext-logo-white-web.png  \n",
            "  inflating: fastText-0.2.0/website/static/img/logo-color.png  \n",
            "  inflating: fastText-0.2.0/website/static/img/model-black.png  \n",
            "  inflating: fastText-0.2.0/website/static/img/model-blue.png  \n",
            "  inflating: fastText-0.2.0/website/static/img/model-red.png  \n",
            "  inflating: fastText-0.2.0/website/static/img/ogimage.png  \n",
            "  inflating: fastText-0.2.0/website/static/img/oss_logo.png  \n",
            "  inflating: fastText-0.2.0/wikifil.pl  \n",
            "  inflating: fastText-0.2.0/word-vector-example.sh  \n",
            "/content/fastText-0.2.0\n",
            "c++ -pthread -std=c++0x -march=native -O3 -funroll-loops -c src/args.cc\n",
            "c++ -pthread -std=c++0x -march=native -O3 -funroll-loops -c src/dictionary.cc\n",
            "c++ -pthread -std=c++0x -march=native -O3 -funroll-loops -c src/productquantizer.cc\n",
            "c++ -pthread -std=c++0x -march=native -O3 -funroll-loops -c src/matrix.cc\n",
            "c++ -pthread -std=c++0x -march=native -O3 -funroll-loops -c src/qmatrix.cc\n",
            "c++ -pthread -std=c++0x -march=native -O3 -funroll-loops -c src/vector.cc\n",
            "c++ -pthread -std=c++0x -march=native -O3 -funroll-loops -c src/model.cc\n",
            "c++ -pthread -std=c++0x -march=native -O3 -funroll-loops -c src/utils.cc\n",
            "c++ -pthread -std=c++0x -march=native -O3 -funroll-loops -c src/meter.cc\n",
            "c++ -pthread -std=c++0x -march=native -O3 -funroll-loops -c src/fasttext.cc\n",
            "\u001b[01m\u001b[Ksrc/fasttext.cc:\u001b[m\u001b[K In member function ‘\u001b[01m\u001b[Kvoid fasttext::FastText::quantize(const fasttext::Args&)\u001b[m\u001b[K’:\n",
            "\u001b[01m\u001b[Ksrc/fasttext.cc:302:45:\u001b[m\u001b[K \u001b[01;35m\u001b[Kwarning: \u001b[m\u001b[K‘\u001b[01m\u001b[Kstd::vector<int> fasttext::FastText::selectEmbeddings(int32_t) const\u001b[m\u001b[K’ is deprecated: selectEmbeddings is being deprecated. [\u001b[01;35m\u001b[K-Wdeprecated-declarations\u001b[m\u001b[K]\n",
            "     auto idx = selectEmbeddings(qargs.cutoff\u001b[01;35m\u001b[K)\u001b[m\u001b[K;\n",
            "                                             \u001b[01;35m\u001b[K^\u001b[m\u001b[K\n",
            "\u001b[01m\u001b[Ksrc/fasttext.cc:279:22:\u001b[m\u001b[K \u001b[01;36m\u001b[Knote: \u001b[m\u001b[Kdeclared here\n",
            " std::vector<int32_t> \u001b[01;36m\u001b[KFastText\u001b[m\u001b[K::selectEmbeddings(int32_t cutoff) const {\n",
            "                      \u001b[01;36m\u001b[K^~~~~~~~\u001b[m\u001b[K\n",
            "\u001b[01m\u001b[Ksrc/fasttext.cc:\u001b[m\u001b[K In member function ‘\u001b[01m\u001b[Kvoid fasttext::FastText::lazyComputeWordVectors()\u001b[m\u001b[K’:\n",
            "\u001b[01m\u001b[Ksrc/fasttext.cc:531:40:\u001b[m\u001b[K \u001b[01;35m\u001b[Kwarning: \u001b[m\u001b[K‘\u001b[01m\u001b[Kvoid fasttext::FastText::precomputeWordVectors(fasttext::Matrix&)\u001b[m\u001b[K’ is deprecated: precomputeWordVectors is being deprecated. [\u001b[01;35m\u001b[K-Wdeprecated-declarations\u001b[m\u001b[K]\n",
            "     precomputeWordVectors(*wordVectors_\u001b[01;35m\u001b[K)\u001b[m\u001b[K;\n",
            "                                        \u001b[01;35m\u001b[K^\u001b[m\u001b[K\n",
            "\u001b[01m\u001b[Ksrc/fasttext.cc:514:6:\u001b[m\u001b[K \u001b[01;36m\u001b[Knote: \u001b[m\u001b[Kdeclared here\n",
            " void \u001b[01;36m\u001b[KFastText\u001b[m\u001b[K::precomputeWordVectors(Matrix& wordVectors) {\n",
            "      \u001b[01;36m\u001b[K^~~~~~~~\u001b[m\u001b[K\n",
            "\u001b[01m\u001b[Ksrc/fasttext.cc:\u001b[m\u001b[K In member function ‘\u001b[01m\u001b[Kvoid fasttext::FastText::trainThread(int32_t)\u001b[m\u001b[K’:\n",
            "\u001b[01m\u001b[Ksrc/fasttext.cc:650:41:\u001b[m\u001b[K \u001b[01;35m\u001b[Kwarning: \u001b[m\u001b[K‘\u001b[01m\u001b[Kvoid fasttext::FastText::supervised(fasttext::Model&, fasttext::real, const std::vector<int>&, const std::vector<int>&)\u001b[m\u001b[K’ is deprecated: supervised is being deprecated. [\u001b[01;35m\u001b[K-Wdeprecated-declarations\u001b[m\u001b[K]\n",
            "       supervised(model, lr, line, labels\u001b[01;35m\u001b[K)\u001b[m\u001b[K;\n",
            "                                         \u001b[01;35m\u001b[K^\u001b[m\u001b[K\n",
            "\u001b[01m\u001b[Ksrc/fasttext.cc:338:6:\u001b[m\u001b[K \u001b[01;36m\u001b[Knote: \u001b[m\u001b[Kdeclared here\n",
            " void \u001b[01;36m\u001b[KFastText\u001b[m\u001b[K::supervised(\n",
            "      \u001b[01;36m\u001b[K^~~~~~~~\u001b[m\u001b[K\n",
            "\u001b[01m\u001b[Ksrc/fasttext.cc:653:27:\u001b[m\u001b[K \u001b[01;35m\u001b[Kwarning: \u001b[m\u001b[K‘\u001b[01m\u001b[Kvoid fasttext::FastText::cbow(fasttext::Model&, fasttext::real, const std::vector<int>&)\u001b[m\u001b[K’ is deprecated: cbow is being deprecated. [\u001b[01;35m\u001b[K-Wdeprecated-declarations\u001b[m\u001b[K]\n",
            "       cbow(model, lr, line\u001b[01;35m\u001b[K)\u001b[m\u001b[K;\n",
            "                           \u001b[01;35m\u001b[K^\u001b[m\u001b[K\n",
            "\u001b[01m\u001b[Ksrc/fasttext.cc:355:6:\u001b[m\u001b[K \u001b[01;36m\u001b[Knote: \u001b[m\u001b[Kdeclared here\n",
            " void \u001b[01;36m\u001b[KFastText\u001b[m\u001b[K::cbow(Model& model, real lr, const std::vector<int32_t>& line) {\n",
            "      \u001b[01;36m\u001b[K^~~~~~~~\u001b[m\u001b[K\n",
            "\u001b[01m\u001b[Ksrc/fasttext.cc:656:31:\u001b[m\u001b[K \u001b[01;35m\u001b[Kwarning: \u001b[m\u001b[K‘\u001b[01m\u001b[Kvoid fasttext::FastText::skipgram(fasttext::Model&, fasttext::real, const std::vector<int>&)\u001b[m\u001b[K’ is deprecated: skipgram is being deprecated. [\u001b[01;35m\u001b[K-Wdeprecated-declarations\u001b[m\u001b[K]\n",
            "       skipgram(model, lr, line\u001b[01;35m\u001b[K)\u001b[m\u001b[K;\n",
            "                               \u001b[01;35m\u001b[K^\u001b[m\u001b[K\n",
            "\u001b[01m\u001b[Ksrc/fasttext.cc:371:6:\u001b[m\u001b[K \u001b[01;36m\u001b[Knote: \u001b[m\u001b[Kdeclared here\n",
            " void \u001b[01;36m\u001b[KFastText\u001b[m\u001b[K::skipgram(\n",
            "      \u001b[01;36m\u001b[K^~~~~~~~\u001b[m\u001b[K\n",
            "c++ -pthread -std=c++0x -march=native -O3 -funroll-loops args.o dictionary.o productquantizer.o matrix.o qmatrix.o vector.o model.o utils.o meter.o fasttext.o src/main.cc -o fasttext\n"
          ],
          "name": "stdout"
        }
      ]
    },
    {
      "cell_type": "code",
      "metadata": {
        "id": "MJPPh3XSoK7X",
        "colab_type": "code",
        "colab": {}
      },
      "source": [
        "f = open('train.txt', 'w')\n",
        "for i, tweet in enumerate(preprocessed_train):\n",
        "    f.write('__label__' + str(training_y[i]) + \" \" + \" \".join(tweet) + '\\n')\n",
        "f.close()\n",
        "\n",
        "f = open('test.txt', 'w')\n",
        "for i, tweet in enumerate(preprocessed_test):\n",
        "    f.write(\" \".join(tweet) + '\\n')\n",
        "f.close()"
      ],
      "execution_count": 0,
      "outputs": []
    },
    {
      "cell_type": "code",
      "metadata": {
        "id": "_q2RzFpJpllk",
        "colab_type": "code",
        "colab": {
          "base_uri": "https://localhost:8080/",
          "height": 84
        },
        "outputId": "d6afd9f8-f691-4c33-f230-13b9ded9cd06"
      },
      "source": [
        "!./fasttext supervised -input train.txt -output model -dim 2"
      ],
      "execution_count": 70,
      "outputs": [
        {
          "output_type": "stream",
          "text": [
            "\rRead 0M words\n",
            "Number of words:  13684\n",
            "Number of labels: 2\n",
            "\rProgress: 100.0% words/sec/thread:  661894 lr: -0.000025 loss:  0.454839 ETA:   0h 0m\rProgress: 100.0% words/sec/thread:  661047 lr:  0.000000 loss:  0.454839 ETA:   0h 0m\n"
          ],
          "name": "stdout"
        }
      ]
    },
    {
      "cell_type": "code",
      "metadata": {
        "id": "LcVt0qWypsoO",
        "colab_type": "code",
        "colab": {}
      },
      "source": [
        "!./fasttext predict model.bin test.txt > results.txt"
      ],
      "execution_count": 0,
      "outputs": []
    },
    {
      "cell_type": "code",
      "metadata": {
        "id": "aqqwxhaoqseq",
        "colab_type": "code",
        "colab": {
          "base_uri": "https://localhost:8080/",
          "height": 34
        },
        "outputId": "17106ffc-1bf7-4308-f54d-a99c9cf98160"
      },
      "source": [
        "predictions = []\n",
        "\n",
        "with open('results.txt', 'r') as f:\n",
        "    for line in f.readlines():\n",
        "        predictions.append(int(line.replace('__label__', '')))\n",
        "\n",
        "predictions[:10]"
      ],
      "execution_count": 77,
      "outputs": [
        {
          "output_type": "execute_result",
          "data": {
            "text/plain": [
              "[0, 0, 1, 0, 0, 1, 1, 0, 0, 0]"
            ]
          },
          "metadata": {
            "tags": []
          },
          "execution_count": 77
        }
      ]
    },
    {
      "cell_type": "code",
      "metadata": {
        "id": "BGdMS0hPrrh1",
        "colab_type": "code",
        "colab": {
          "base_uri": "https://localhost:8080/",
          "height": 34
        },
        "outputId": "c01b237f-fb9a-4ac4-9762-060004c37002"
      },
      "source": [
        "accuracy = accuracy_score(test_y, predictions, normalize=True, sample_weight=None)\n",
        "print('Accuracy:', accuracy)"
      ],
      "execution_count": 78,
      "outputs": [
        {
          "output_type": "stream",
          "text": [
            "Accuracy: 0.8023255813953488\n"
          ],
          "name": "stdout"
        }
      ]
    },
    {
      "cell_type": "markdown",
      "metadata": {
        "id": "EFra4CmgkaKs",
        "colab_type": "text"
      },
      "source": [
        "## Notes"
      ]
    },
    {
      "cell_type": "code",
      "metadata": {
        "id": "lUW1FrPEo1iQ",
        "colab_type": "code",
        "colab": {}
      },
      "source": [
        "'''\n",
        "Naïve Bayes: a family of probabilistic algorithms that uses Bayes’s Theorem to predict the category of a text.\n",
        "\n",
        "Linear Regression: a very well-known algorithm in statistics used to predict some value (Y) given a set of features (X).\n",
        "\n",
        "Support Vector Machines: a non-probabilistic model which uses a representation of text examples as points in a multidimensional space. \n",
        "These examples are mapped so that the examples of the different categories (sentiments) belong to distinct regions of that space.. \n",
        "Then, new texts are mapped onto that same space and predicted to belong to a category based on which region they fall into.\n",
        "\n",
        "extremeText/fastText\n",
        "tfidf+bow-NB\n",
        "\n",
        "svc_tfidf           0.9656\n",
        "svc                 0.9562\n",
        "w2v_tfidf           0.9544\n",
        "w2v                 0.9510\n",
        "mult_nb             0.9467\n",
        "glove_big           0.9274\n",
        "glove_small         0.9262\n",
        "glove_small_tfidf   0.9075\n",
        "glove_big_tfidf     0.9038\n",
        "mult_nb_tfidf       0.8615\n",
        "bern_nb             0.7954\n",
        "bern_nb_tfidf       0.7954\n",
        "\n",
        "logistic regression -> https://itnext.io/machine-learning-sentiment-analysis-of-movie-reviews-using-logisticregression-62e9622b4532\n",
        "'''"
      ],
      "execution_count": 0,
      "outputs": []
    }
  ]
}